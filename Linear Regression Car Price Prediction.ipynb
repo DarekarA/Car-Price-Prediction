{
 "cells": [
  {
   "cell_type": "code",
   "execution_count": 1,
   "metadata": {},
   "outputs": [],
   "source": [
    "import pandas as pd\n",
    "import os\n",
    "import warnings\n",
    "warnings.filterwarnings('ignore')\n",
    "import seaborn as sns\n",
    "import numpy as np\n",
    "import matplotlib.pyplot as plt\n",
    "import seaborn as sns\n",
    "os.chdir(\"C:/Users/Abhishek/Desktop/Data Sets/Imarticus\")\n"
   ]
  },
  {
   "cell_type": "code",
   "execution_count": 2,
   "metadata": {},
   "outputs": [],
   "source": [
    "# To Display All Rows and Columns. Do this when you wan to see all columns and Rows\n",
    "\n",
    "pd.set_option(\"display.max_columns\",None)\n",
    "pd.set_option(\"display.max_rows\",None)"
   ]
  },
  {
   "cell_type": "code",
   "execution_count": 3,
   "metadata": {},
   "outputs": [
    {
     "data": {
      "text/html": [
       "<div>\n",
       "<style scoped>\n",
       "    .dataframe tbody tr th:only-of-type {\n",
       "        vertical-align: middle;\n",
       "    }\n",
       "\n",
       "    .dataframe tbody tr th {\n",
       "        vertical-align: top;\n",
       "    }\n",
       "\n",
       "    .dataframe thead th {\n",
       "        text-align: right;\n",
       "    }\n",
       "</style>\n",
       "<table border=\"1\" class=\"dataframe\">\n",
       "  <thead>\n",
       "    <tr style=\"text-align: right;\">\n",
       "      <th></th>\n",
       "      <th>symboling</th>\n",
       "      <th>normalized_losses</th>\n",
       "      <th>Fuel_type</th>\n",
       "      <th>make</th>\n",
       "      <th>num_of_doors</th>\n",
       "      <th>aspiration</th>\n",
       "      <th>wheel_base</th>\n",
       "      <th>engine_location</th>\n",
       "      <th>drive_wheels</th>\n",
       "      <th>body_style</th>\n",
       "      <th>length</th>\n",
       "      <th>width</th>\n",
       "      <th>height</th>\n",
       "      <th>curb_weight</th>\n",
       "      <th>engine_type</th>\n",
       "      <th>num_of_cylinders</th>\n",
       "      <th>engine_size</th>\n",
       "      <th>fuel_system</th>\n",
       "      <th>bore</th>\n",
       "      <th>stroke</th>\n",
       "      <th>compression_ratio</th>\n",
       "      <th>horsepower</th>\n",
       "      <th>peak_rpm</th>\n",
       "      <th>city_mpg</th>\n",
       "      <th>highway_mpg</th>\n",
       "      <th>price</th>\n",
       "    </tr>\n",
       "  </thead>\n",
       "  <tbody>\n",
       "    <tr>\n",
       "      <th>0</th>\n",
       "      <td>3</td>\n",
       "      <td>?</td>\n",
       "      <td>gas</td>\n",
       "      <td>std</td>\n",
       "      <td>two</td>\n",
       "      <td>convertible</td>\n",
       "      <td>rwd</td>\n",
       "      <td>front</td>\n",
       "      <td>88.6</td>\n",
       "      <td>alfa-romero</td>\n",
       "      <td>168.8</td>\n",
       "      <td>64.1</td>\n",
       "      <td>48.8</td>\n",
       "      <td>2548</td>\n",
       "      <td>dohc</td>\n",
       "      <td>four</td>\n",
       "      <td>130</td>\n",
       "      <td>mpfi</td>\n",
       "      <td>3.47</td>\n",
       "      <td>2.68</td>\n",
       "      <td>9.0</td>\n",
       "      <td>111</td>\n",
       "      <td>5000</td>\n",
       "      <td>21</td>\n",
       "      <td>27</td>\n",
       "      <td>13495</td>\n",
       "    </tr>\n",
       "    <tr>\n",
       "      <th>1</th>\n",
       "      <td>3</td>\n",
       "      <td>?</td>\n",
       "      <td>gas</td>\n",
       "      <td>std</td>\n",
       "      <td>two</td>\n",
       "      <td>convertible</td>\n",
       "      <td>rwd</td>\n",
       "      <td>front</td>\n",
       "      <td>88.6</td>\n",
       "      <td>alfa-romero</td>\n",
       "      <td>168.8</td>\n",
       "      <td>64.1</td>\n",
       "      <td>48.8</td>\n",
       "      <td>2548</td>\n",
       "      <td>dohc</td>\n",
       "      <td>four</td>\n",
       "      <td>130</td>\n",
       "      <td>mpfi</td>\n",
       "      <td>3.47</td>\n",
       "      <td>2.68</td>\n",
       "      <td>9.0</td>\n",
       "      <td>111</td>\n",
       "      <td>5000</td>\n",
       "      <td>21</td>\n",
       "      <td>27</td>\n",
       "      <td>16500</td>\n",
       "    </tr>\n",
       "    <tr>\n",
       "      <th>2</th>\n",
       "      <td>1</td>\n",
       "      <td>?</td>\n",
       "      <td>gas</td>\n",
       "      <td>std</td>\n",
       "      <td>two</td>\n",
       "      <td>hatchback</td>\n",
       "      <td>rwd</td>\n",
       "      <td>front</td>\n",
       "      <td>94.5</td>\n",
       "      <td>alfa-romero</td>\n",
       "      <td>171.2</td>\n",
       "      <td>65.5</td>\n",
       "      <td>52.4</td>\n",
       "      <td>2823</td>\n",
       "      <td>ohcv</td>\n",
       "      <td>six</td>\n",
       "      <td>152</td>\n",
       "      <td>mpfi</td>\n",
       "      <td>2.68</td>\n",
       "      <td>3.47</td>\n",
       "      <td>9.0</td>\n",
       "      <td>154</td>\n",
       "      <td>5000</td>\n",
       "      <td>19</td>\n",
       "      <td>26</td>\n",
       "      <td>16500</td>\n",
       "    </tr>\n",
       "    <tr>\n",
       "      <th>3</th>\n",
       "      <td>2</td>\n",
       "      <td>164</td>\n",
       "      <td>gas</td>\n",
       "      <td>std</td>\n",
       "      <td>four</td>\n",
       "      <td>sedan</td>\n",
       "      <td>fwd</td>\n",
       "      <td>front</td>\n",
       "      <td>99.8</td>\n",
       "      <td>audi</td>\n",
       "      <td>176.6</td>\n",
       "      <td>66.2</td>\n",
       "      <td>54.3</td>\n",
       "      <td>2337</td>\n",
       "      <td>ohc</td>\n",
       "      <td>four</td>\n",
       "      <td>109</td>\n",
       "      <td>mpfi</td>\n",
       "      <td>3.19</td>\n",
       "      <td>3.4</td>\n",
       "      <td>10.0</td>\n",
       "      <td>102</td>\n",
       "      <td>5500</td>\n",
       "      <td>24</td>\n",
       "      <td>30</td>\n",
       "      <td>13950</td>\n",
       "    </tr>\n",
       "    <tr>\n",
       "      <th>4</th>\n",
       "      <td>2</td>\n",
       "      <td>164</td>\n",
       "      <td>gas</td>\n",
       "      <td>std</td>\n",
       "      <td>four</td>\n",
       "      <td>sedan</td>\n",
       "      <td>4wd</td>\n",
       "      <td>front</td>\n",
       "      <td>99.4</td>\n",
       "      <td>audi</td>\n",
       "      <td>176.6</td>\n",
       "      <td>66.4</td>\n",
       "      <td>54.3</td>\n",
       "      <td>2824</td>\n",
       "      <td>ohc</td>\n",
       "      <td>five</td>\n",
       "      <td>136</td>\n",
       "      <td>mpfi</td>\n",
       "      <td>3.19</td>\n",
       "      <td>3.4</td>\n",
       "      <td>8.0</td>\n",
       "      <td>115</td>\n",
       "      <td>5500</td>\n",
       "      <td>18</td>\n",
       "      <td>22</td>\n",
       "      <td>17450</td>\n",
       "    </tr>\n",
       "  </tbody>\n",
       "</table>\n",
       "</div>"
      ],
      "text/plain": [
       "   symboling normalized_losses Fuel_type make num_of_doors   aspiration  \\\n",
       "0          3                 ?       gas  std          two  convertible   \n",
       "1          3                 ?       gas  std          two  convertible   \n",
       "2          1                 ?       gas  std          two    hatchback   \n",
       "3          2               164       gas  std         four        sedan   \n",
       "4          2               164       gas  std         four        sedan   \n",
       "\n",
       "  wheel_base engine_location  drive_wheels   body_style  length  width  \\\n",
       "0        rwd           front          88.6  alfa-romero   168.8   64.1   \n",
       "1        rwd           front          88.6  alfa-romero   168.8   64.1   \n",
       "2        rwd           front          94.5  alfa-romero   171.2   65.5   \n",
       "3        fwd           front          99.8         audi   176.6   66.2   \n",
       "4        4wd           front          99.4         audi   176.6   66.4   \n",
       "\n",
       "   height  curb_weight engine_type num_of_cylinders  engine_size fuel_system  \\\n",
       "0    48.8         2548        dohc             four          130        mpfi   \n",
       "1    48.8         2548        dohc             four          130        mpfi   \n",
       "2    52.4         2823        ohcv              six          152        mpfi   \n",
       "3    54.3         2337         ohc             four          109        mpfi   \n",
       "4    54.3         2824         ohc             five          136        mpfi   \n",
       "\n",
       "   bore stroke  compression_ratio horsepower peak_rpm  city_mpg  highway_mpg  \\\n",
       "0  3.47   2.68                9.0        111     5000        21           27   \n",
       "1  3.47   2.68                9.0        111     5000        21           27   \n",
       "2  2.68   3.47                9.0        154     5000        19           26   \n",
       "3  3.19    3.4               10.0        102     5500        24           30   \n",
       "4  3.19    3.4                8.0        115     5500        18           22   \n",
       "\n",
       "   price  \n",
       "0  13495  \n",
       "1  16500  \n",
       "2  16500  \n",
       "3  13950  \n",
       "4  17450  "
      ]
     },
     "execution_count": 3,
     "metadata": {},
     "output_type": "execute_result"
    }
   ],
   "source": [
    "data = pd.read_csv(\"car_price.csv\")\n",
    "data.head()"
   ]
  },
  {
   "cell_type": "code",
   "execution_count": 4,
   "metadata": {},
   "outputs": [
    {
     "data": {
      "text/plain": [
       "(205, 26)"
      ]
     },
     "execution_count": 4,
     "metadata": {},
     "output_type": "execute_result"
    }
   ],
   "source": [
    "data.shape"
   ]
  },
  {
   "cell_type": "markdown",
   "metadata": {},
   "source": [
    "### 1. We have some weird character \"?\" in some columns, need to check which all columns have them and Deal with them."
   ]
  },
  {
   "cell_type": "code",
   "execution_count": 5,
   "metadata": {},
   "outputs": [
    {
     "name": "stdout",
     "output_type": "stream",
     "text": [
      "\n",
      " ?  exists in :\n",
      "normalized_losses\n",
      "\n",
      " ?  exists in :\n",
      "num_of_doors\n",
      "\n",
      " ?  exists in :\n",
      "bore\n",
      "\n",
      " ?  exists in :\n",
      "stroke\n",
      "\n",
      " ?  exists in :\n",
      "horsepower\n",
      "\n",
      " ?  exists in :\n",
      "peak_rpm\n",
      "\n",
      " ?  exists in :\n",
      "price\n"
     ]
    }
   ],
   "source": [
    "# Check whichall columns have weird character \"?\"\n",
    "cols = data.columns\n",
    "for i in cols:\n",
    "    if \"?\" in data[i].values:\n",
    "        print(\"\\n ?  exists in :\")\n",
    "        print(i)"
   ]
  },
  {
   "cell_type": "code",
   "execution_count": 6,
   "metadata": {},
   "outputs": [],
   "source": [
    "# removing \"?\" from  Columns\n",
    "data.replace({\"normalized_losses\" : {\"?\":np.nan}}, regex=False, inplace=True)\n",
    "data.replace({\"num_of_doors\" : {\"?\":np.nan}}, regex=False, inplace=True)\n",
    "data.replace({\"bore\" : {\"?\":np.nan}}, regex=False, inplace=True)\n",
    "data.replace({\"stroke\" : {\"?\":np.nan}}, regex=False, inplace=True)\n",
    "data.replace({\"horsepower\" : {\"?\":np.nan}}, regex=False, inplace=True)\n",
    "data.replace({\"peak_rpm\" : {\"?\":np.nan}}, regex=False, inplace=True)\n",
    "data.replace({\"price\" : {\"?\":np.nan}}, regex=False, inplace=True)"
   ]
  },
  {
   "cell_type": "code",
   "execution_count": 7,
   "metadata": {},
   "outputs": [
    {
     "data": {
      "text/plain": [
       "symboling             0\n",
       "normalized_losses    41\n",
       "Fuel_type             0\n",
       "make                  0\n",
       "num_of_doors          2\n",
       "aspiration            0\n",
       "wheel_base            0\n",
       "engine_location       0\n",
       "drive_wheels          0\n",
       "body_style            0\n",
       "length                0\n",
       "width                 0\n",
       "height                0\n",
       "curb_weight           0\n",
       "engine_type           0\n",
       "num_of_cylinders      0\n",
       "engine_size           0\n",
       "fuel_system           0\n",
       "bore                  4\n",
       "stroke                4\n",
       "compression_ratio     0\n",
       "horsepower            2\n",
       "peak_rpm              2\n",
       "city_mpg              0\n",
       "highway_mpg           0\n",
       "price                 4\n",
       "dtype: int64"
      ]
     },
     "execution_count": 7,
     "metadata": {},
     "output_type": "execute_result"
    }
   ],
   "source": [
    "# Check Null values\n",
    "data.isna().sum()"
   ]
  },
  {
   "cell_type": "markdown",
   "metadata": {},
   "source": [
    "### 2. Deal with Missing Values"
   ]
  },
  {
   "cell_type": "markdown",
   "metadata": {},
   "source": [
    "### Price is our target column and we have missing values in that, we dont impute our Target columns, we should Drop missing values from this"
   ]
  },
  {
   "cell_type": "code",
   "execution_count": 8,
   "metadata": {},
   "outputs": [],
   "source": [
    "data.dropna(subset=[\"price\"],inplace=True)"
   ]
  },
  {
   "cell_type": "code",
   "execution_count": 9,
   "metadata": {},
   "outputs": [
    {
     "data": {
      "text/plain": [
       "0"
      ]
     },
     "execution_count": 9,
     "metadata": {},
     "output_type": "execute_result"
    }
   ],
   "source": [
    "data.price.isna().sum()"
   ]
  },
  {
   "cell_type": "markdown",
   "metadata": {},
   "source": [
    "###  2.1 ShortCut to Fill Mean  (Only Numeric Columns )\n",
    "\n",
    "- Fill Nulls of each column by that columns Median"
   ]
  },
  {
   "cell_type": "code",
   "execution_count": 10,
   "metadata": {},
   "outputs": [
    {
     "data": {
      "text/plain": [
       "symboling             0\n",
       "normalized_losses    37\n",
       "Fuel_type             0\n",
       "make                  0\n",
       "num_of_doors          2\n",
       "aspiration            0\n",
       "wheel_base            0\n",
       "engine_location       0\n",
       "drive_wheels          0\n",
       "body_style            0\n",
       "length                0\n",
       "width                 0\n",
       "height                0\n",
       "curb_weight           0\n",
       "engine_type           0\n",
       "num_of_cylinders      0\n",
       "engine_size           0\n",
       "fuel_system           0\n",
       "bore                  4\n",
       "stroke                4\n",
       "compression_ratio     0\n",
       "horsepower            2\n",
       "peak_rpm              2\n",
       "city_mpg              0\n",
       "highway_mpg           0\n",
       "price                 0\n",
       "dtype: int64"
      ]
     },
     "execution_count": 10,
     "metadata": {},
     "output_type": "execute_result"
    }
   ],
   "source": [
    "data.isna().sum()"
   ]
  },
  {
   "cell_type": "code",
   "execution_count": 11,
   "metadata": {},
   "outputs": [],
   "source": [
    "data.fillna(data.median(),inplace=True)"
   ]
  },
  {
   "cell_type": "markdown",
   "metadata": {},
   "source": [
    "### 2.2 Removing Nulls from Categorical columns"
   ]
  },
  {
   "cell_type": "code",
   "execution_count": 12,
   "metadata": {},
   "outputs": [
    {
     "data": {
      "text/plain": [
       "four    113\n",
       "two      86\n",
       "Name: num_of_doors, dtype: int64"
      ]
     },
     "execution_count": 12,
     "metadata": {},
     "output_type": "execute_result"
    }
   ],
   "source": [
    "data.num_of_doors.value_counts()"
   ]
  },
  {
   "cell_type": "code",
   "execution_count": 13,
   "metadata": {},
   "outputs": [],
   "source": [
    "data.num_of_doors.fillna(\"four\",inplace=True)"
   ]
  },
  {
   "cell_type": "code",
   "execution_count": 14,
   "metadata": {},
   "outputs": [
    {
     "data": {
      "text/plain": [
       "symboling            0\n",
       "normalized_losses    0\n",
       "Fuel_type            0\n",
       "make                 0\n",
       "num_of_doors         0\n",
       "aspiration           0\n",
       "wheel_base           0\n",
       "engine_location      0\n",
       "drive_wheels         0\n",
       "body_style           0\n",
       "length               0\n",
       "width                0\n",
       "height               0\n",
       "curb_weight          0\n",
       "engine_type          0\n",
       "num_of_cylinders     0\n",
       "engine_size          0\n",
       "fuel_system          0\n",
       "bore                 0\n",
       "stroke               0\n",
       "compression_ratio    0\n",
       "horsepower           0\n",
       "peak_rpm             0\n",
       "city_mpg             0\n",
       "highway_mpg          0\n",
       "price                0\n",
       "dtype: int64"
      ]
     },
     "execution_count": 14,
     "metadata": {},
     "output_type": "execute_result"
    }
   ],
   "source": [
    "data.isna().sum()\n",
    "\n",
    "#All Null Removed"
   ]
  },
  {
   "cell_type": "markdown",
   "metadata": {},
   "source": [
    "### 3. Converting Columns to correct Datatype"
   ]
  },
  {
   "cell_type": "markdown",
   "metadata": {},
   "source": [
    "### 3.1 The columns which had \"?\" were originally int but because of this weird characters they were present as Object.\n",
    "\n",
    "- We Removed the weird charater, but these columns are still Object type but should be numeric.\n",
    "- **Correctly converting back to numeric i.e int**"
   ]
  },
  {
   "cell_type": "code",
   "execution_count": 15,
   "metadata": {},
   "outputs": [],
   "source": [
    "data[[\"normalized_losses\",\"bore\",\"stroke\",\"peak_rpm\",\"horsepower\",\"price\"]] = data[[\"normalized_losses\",\"bore\",\"stroke\",\"peak_rpm\",\"horsepower\",\"price\"]].astype(\"float64\")"
   ]
  },
  {
   "cell_type": "code",
   "execution_count": 16,
   "metadata": {},
   "outputs": [
    {
     "name": "stdout",
     "output_type": "stream",
     "text": [
      "<class 'pandas.core.frame.DataFrame'>\n",
      "Int64Index: 201 entries, 0 to 204\n",
      "Data columns (total 26 columns):\n",
      " #   Column             Non-Null Count  Dtype  \n",
      "---  ------             --------------  -----  \n",
      " 0   symboling          201 non-null    int64  \n",
      " 1   normalized_losses  201 non-null    float64\n",
      " 2   Fuel_type          201 non-null    object \n",
      " 3   make               201 non-null    object \n",
      " 4   num_of_doors       201 non-null    object \n",
      " 5   aspiration         201 non-null    object \n",
      " 6   wheel_base         201 non-null    object \n",
      " 7   engine_location    201 non-null    object \n",
      " 8   drive_wheels       201 non-null    float64\n",
      " 9   body_style         201 non-null    object \n",
      " 10  length             201 non-null    float64\n",
      " 11  width              201 non-null    float64\n",
      " 12  height             201 non-null    float64\n",
      " 13  curb_weight        201 non-null    int64  \n",
      " 14  engine_type        201 non-null    object \n",
      " 15  num_of_cylinders   201 non-null    object \n",
      " 16  engine_size        201 non-null    int64  \n",
      " 17  fuel_system        201 non-null    object \n",
      " 18  bore               201 non-null    float64\n",
      " 19  stroke             201 non-null    float64\n",
      " 20  compression_ratio  201 non-null    float64\n",
      " 21  horsepower         201 non-null    float64\n",
      " 22  peak_rpm           201 non-null    float64\n",
      " 23  city_mpg           201 non-null    int64  \n",
      " 24  highway_mpg        201 non-null    int64  \n",
      " 25  price              201 non-null    float64\n",
      "dtypes: float64(11), int64(5), object(10)\n",
      "memory usage: 42.4+ KB\n"
     ]
    }
   ],
   "source": [
    "data.info()"
   ]
  },
  {
   "cell_type": "markdown",
   "metadata": {},
   "source": [
    "### 4. Label Encoder"
   ]
  },
  {
   "cell_type": "code",
   "execution_count": 17,
   "metadata": {},
   "outputs": [],
   "source": [
    "from sklearn.preprocessing import LabelEncoder\n",
    "\n",
    "encoder = LabelEncoder()"
   ]
  },
  {
   "cell_type": "code",
   "execution_count": 18,
   "metadata": {},
   "outputs": [],
   "source": [
    "data[data.select_dtypes(include=\"object\").columns] = data[data.select_dtypes(include=\"object\").columns].apply(encoder.fit_transform)"
   ]
  },
  {
   "cell_type": "code",
   "execution_count": 19,
   "metadata": {},
   "outputs": [
    {
     "data": {
      "text/html": [
       "<div>\n",
       "<style scoped>\n",
       "    .dataframe tbody tr th:only-of-type {\n",
       "        vertical-align: middle;\n",
       "    }\n",
       "\n",
       "    .dataframe tbody tr th {\n",
       "        vertical-align: top;\n",
       "    }\n",
       "\n",
       "    .dataframe thead th {\n",
       "        text-align: right;\n",
       "    }\n",
       "</style>\n",
       "<table border=\"1\" class=\"dataframe\">\n",
       "  <thead>\n",
       "    <tr style=\"text-align: right;\">\n",
       "      <th></th>\n",
       "      <th>symboling</th>\n",
       "      <th>normalized_losses</th>\n",
       "      <th>Fuel_type</th>\n",
       "      <th>make</th>\n",
       "      <th>num_of_doors</th>\n",
       "      <th>aspiration</th>\n",
       "      <th>wheel_base</th>\n",
       "      <th>engine_location</th>\n",
       "      <th>drive_wheels</th>\n",
       "      <th>body_style</th>\n",
       "      <th>length</th>\n",
       "      <th>width</th>\n",
       "      <th>height</th>\n",
       "      <th>curb_weight</th>\n",
       "      <th>engine_type</th>\n",
       "      <th>num_of_cylinders</th>\n",
       "      <th>engine_size</th>\n",
       "      <th>fuel_system</th>\n",
       "      <th>bore</th>\n",
       "      <th>stroke</th>\n",
       "      <th>compression_ratio</th>\n",
       "      <th>horsepower</th>\n",
       "      <th>peak_rpm</th>\n",
       "      <th>city_mpg</th>\n",
       "      <th>highway_mpg</th>\n",
       "      <th>price</th>\n",
       "    </tr>\n",
       "  </thead>\n",
       "  <tbody>\n",
       "    <tr>\n",
       "      <th>0</th>\n",
       "      <td>3</td>\n",
       "      <td>115.0</td>\n",
       "      <td>1</td>\n",
       "      <td>0</td>\n",
       "      <td>1</td>\n",
       "      <td>0</td>\n",
       "      <td>2</td>\n",
       "      <td>0</td>\n",
       "      <td>88.6</td>\n",
       "      <td>0</td>\n",
       "      <td>168.8</td>\n",
       "      <td>64.1</td>\n",
       "      <td>48.8</td>\n",
       "      <td>2548</td>\n",
       "      <td>0</td>\n",
       "      <td>2</td>\n",
       "      <td>130</td>\n",
       "      <td>5</td>\n",
       "      <td>3.47</td>\n",
       "      <td>2.68</td>\n",
       "      <td>9.0</td>\n",
       "      <td>111.0</td>\n",
       "      <td>5000.0</td>\n",
       "      <td>21</td>\n",
       "      <td>27</td>\n",
       "      <td>13495.0</td>\n",
       "    </tr>\n",
       "    <tr>\n",
       "      <th>1</th>\n",
       "      <td>3</td>\n",
       "      <td>115.0</td>\n",
       "      <td>1</td>\n",
       "      <td>0</td>\n",
       "      <td>1</td>\n",
       "      <td>0</td>\n",
       "      <td>2</td>\n",
       "      <td>0</td>\n",
       "      <td>88.6</td>\n",
       "      <td>0</td>\n",
       "      <td>168.8</td>\n",
       "      <td>64.1</td>\n",
       "      <td>48.8</td>\n",
       "      <td>2548</td>\n",
       "      <td>0</td>\n",
       "      <td>2</td>\n",
       "      <td>130</td>\n",
       "      <td>5</td>\n",
       "      <td>3.47</td>\n",
       "      <td>2.68</td>\n",
       "      <td>9.0</td>\n",
       "      <td>111.0</td>\n",
       "      <td>5000.0</td>\n",
       "      <td>21</td>\n",
       "      <td>27</td>\n",
       "      <td>16500.0</td>\n",
       "    </tr>\n",
       "    <tr>\n",
       "      <th>2</th>\n",
       "      <td>1</td>\n",
       "      <td>115.0</td>\n",
       "      <td>1</td>\n",
       "      <td>0</td>\n",
       "      <td>1</td>\n",
       "      <td>2</td>\n",
       "      <td>2</td>\n",
       "      <td>0</td>\n",
       "      <td>94.5</td>\n",
       "      <td>0</td>\n",
       "      <td>171.2</td>\n",
       "      <td>65.5</td>\n",
       "      <td>52.4</td>\n",
       "      <td>2823</td>\n",
       "      <td>4</td>\n",
       "      <td>3</td>\n",
       "      <td>152</td>\n",
       "      <td>5</td>\n",
       "      <td>2.68</td>\n",
       "      <td>3.47</td>\n",
       "      <td>9.0</td>\n",
       "      <td>154.0</td>\n",
       "      <td>5000.0</td>\n",
       "      <td>19</td>\n",
       "      <td>26</td>\n",
       "      <td>16500.0</td>\n",
       "    </tr>\n",
       "  </tbody>\n",
       "</table>\n",
       "</div>"
      ],
      "text/plain": [
       "   symboling  normalized_losses  Fuel_type  make  num_of_doors  aspiration  \\\n",
       "0          3              115.0          1     0             1           0   \n",
       "1          3              115.0          1     0             1           0   \n",
       "2          1              115.0          1     0             1           2   \n",
       "\n",
       "   wheel_base  engine_location  drive_wheels  body_style  length  width  \\\n",
       "0           2                0          88.6           0   168.8   64.1   \n",
       "1           2                0          88.6           0   168.8   64.1   \n",
       "2           2                0          94.5           0   171.2   65.5   \n",
       "\n",
       "   height  curb_weight  engine_type  num_of_cylinders  engine_size  \\\n",
       "0    48.8         2548            0                 2          130   \n",
       "1    48.8         2548            0                 2          130   \n",
       "2    52.4         2823            4                 3          152   \n",
       "\n",
       "   fuel_system  bore  stroke  compression_ratio  horsepower  peak_rpm  \\\n",
       "0            5  3.47    2.68                9.0       111.0    5000.0   \n",
       "1            5  3.47    2.68                9.0       111.0    5000.0   \n",
       "2            5  2.68    3.47                9.0       154.0    5000.0   \n",
       "\n",
       "   city_mpg  highway_mpg    price  \n",
       "0        21           27  13495.0  \n",
       "1        21           27  16500.0  \n",
       "2        19           26  16500.0  "
      ]
     },
     "execution_count": 19,
     "metadata": {},
     "output_type": "execute_result"
    }
   ],
   "source": [
    "data.head(3)\n",
    "# normalized_losses,bore,stroke,peak_rpm,horsepower"
   ]
  },
  {
   "cell_type": "markdown",
   "metadata": {},
   "source": [
    "---"
   ]
  },
  {
   "cell_type": "markdown",
   "metadata": {},
   "source": [
    "## 5.Sampling"
   ]
  },
  {
   "cell_type": "code",
   "execution_count": 20,
   "metadata": {},
   "outputs": [],
   "source": [
    "X = data.drop(\"price\",axis=1) \n",
    "Y = data[\"price\"]"
   ]
  },
  {
   "cell_type": "code",
   "execution_count": 21,
   "metadata": {},
   "outputs": [
    {
     "name": "stdout",
     "output_type": "stream",
     "text": [
      "(160, 25)\n",
      "(160,)\n",
      "(41, 25)\n",
      "(41,)\n"
     ]
    }
   ],
   "source": [
    "from sklearn.model_selection import train_test_split\n",
    "\n",
    "X_train,X_test,y_train,y_test = train_test_split(X,Y,test_size=0.2 , random_state=111)\n",
    "\n",
    "print(X_train.shape)\n",
    "print(y_train.shape)\n",
    "print(X_test.shape)\n",
    "print(y_test.shape)"
   ]
  },
  {
   "cell_type": "markdown",
   "metadata": {},
   "source": [
    "---"
   ]
  },
  {
   "cell_type": "markdown",
   "metadata": {},
   "source": [
    "### Estimating How the Model will Perform"
   ]
  },
  {
   "cell_type": "code",
   "execution_count": 22,
   "metadata": {},
   "outputs": [
    {
     "data": {
      "text/html": [
       "<div>\n",
       "<style scoped>\n",
       "    .dataframe tbody tr th:only-of-type {\n",
       "        vertical-align: middle;\n",
       "    }\n",
       "\n",
       "    .dataframe tbody tr th {\n",
       "        vertical-align: top;\n",
       "    }\n",
       "\n",
       "    .dataframe thead th {\n",
       "        text-align: right;\n",
       "    }\n",
       "</style>\n",
       "<table border=\"1\" class=\"dataframe\">\n",
       "  <thead>\n",
       "    <tr style=\"text-align: right;\">\n",
       "      <th></th>\n",
       "      <th>symboling</th>\n",
       "      <th>normalized_losses</th>\n",
       "      <th>Fuel_type</th>\n",
       "      <th>make</th>\n",
       "      <th>num_of_doors</th>\n",
       "      <th>aspiration</th>\n",
       "      <th>wheel_base</th>\n",
       "      <th>engine_location</th>\n",
       "      <th>drive_wheels</th>\n",
       "      <th>body_style</th>\n",
       "      <th>length</th>\n",
       "      <th>width</th>\n",
       "      <th>height</th>\n",
       "      <th>curb_weight</th>\n",
       "      <th>engine_type</th>\n",
       "      <th>num_of_cylinders</th>\n",
       "      <th>engine_size</th>\n",
       "      <th>fuel_system</th>\n",
       "      <th>bore</th>\n",
       "      <th>stroke</th>\n",
       "      <th>compression_ratio</th>\n",
       "      <th>horsepower</th>\n",
       "      <th>peak_rpm</th>\n",
       "      <th>city_mpg</th>\n",
       "      <th>highway_mpg</th>\n",
       "      <th>price</th>\n",
       "    </tr>\n",
       "  </thead>\n",
       "  <tbody>\n",
       "    <tr>\n",
       "      <th>symboling</th>\n",
       "      <td>1.000000</td>\n",
       "      <td>0.457735</td>\n",
       "      <td>0.196735</td>\n",
       "      <td>-0.054615</td>\n",
       "      <td>0.672344</td>\n",
       "      <td>-0.600333</td>\n",
       "      <td>-0.053056</td>\n",
       "      <td>0.212339</td>\n",
       "      <td>-0.535987</td>\n",
       "      <td>-0.129645</td>\n",
       "      <td>-0.365404</td>\n",
       "      <td>-0.242423</td>\n",
       "      <td>-0.550160</td>\n",
       "      <td>-0.233118</td>\n",
       "      <td>0.091801</td>\n",
       "      <td>0.199377</td>\n",
       "      <td>-0.110581</td>\n",
       "      <td>0.091601</td>\n",
       "      <td>-0.142547</td>\n",
       "      <td>-0.004387</td>\n",
       "      <td>-0.182196</td>\n",
       "      <td>0.075486</td>\n",
       "      <td>0.279897</td>\n",
       "      <td>-0.035527</td>\n",
       "      <td>0.036233</td>\n",
       "      <td>-0.082391</td>\n",
       "    </tr>\n",
       "    <tr>\n",
       "      <th>normalized_losses</th>\n",
       "      <td>0.457735</td>\n",
       "      <td>1.000000</td>\n",
       "      <td>0.105970</td>\n",
       "      <td>-0.010780</td>\n",
       "      <td>0.355303</td>\n",
       "      <td>-0.246047</td>\n",
       "      <td>0.291007</td>\n",
       "      <td>-0.021948</td>\n",
       "      <td>-0.075109</td>\n",
       "      <td>-0.237573</td>\n",
       "      <td>-0.009116</td>\n",
       "      <td>0.061799</td>\n",
       "      <td>-0.371830</td>\n",
       "      <td>0.065393</td>\n",
       "      <td>-0.054761</td>\n",
       "      <td>0.171445</td>\n",
       "      <td>0.073586</td>\n",
       "      <td>0.198932</td>\n",
       "      <td>-0.052094</td>\n",
       "      <td>0.046024</td>\n",
       "      <td>-0.115967</td>\n",
       "      <td>0.182479</td>\n",
       "      <td>0.245899</td>\n",
       "      <td>-0.193896</td>\n",
       "      <td>-0.150773</td>\n",
       "      <td>0.094366</td>\n",
       "    </tr>\n",
       "    <tr>\n",
       "      <th>Fuel_type</th>\n",
       "      <td>0.196735</td>\n",
       "      <td>0.105970</td>\n",
       "      <td>1.000000</td>\n",
       "      <td>-0.408228</td>\n",
       "      <td>0.186681</td>\n",
       "      <td>-0.147654</td>\n",
       "      <td>-0.131096</td>\n",
       "      <td>0.040917</td>\n",
       "      <td>-0.307237</td>\n",
       "      <td>-0.109330</td>\n",
       "      <td>-0.211187</td>\n",
       "      <td>-0.244356</td>\n",
       "      <td>-0.281578</td>\n",
       "      <td>-0.221046</td>\n",
       "      <td>0.124051</td>\n",
       "      <td>0.120638</td>\n",
       "      <td>-0.070779</td>\n",
       "      <td>0.042824</td>\n",
       "      <td>-0.054944</td>\n",
       "      <td>-0.240312</td>\n",
       "      <td>-0.985231</td>\n",
       "      <td>0.168190</td>\n",
       "      <td>0.476260</td>\n",
       "      <td>-0.265676</td>\n",
       "      <td>-0.198690</td>\n",
       "      <td>-0.110326</td>\n",
       "    </tr>\n",
       "    <tr>\n",
       "      <th>make</th>\n",
       "      <td>-0.054615</td>\n",
       "      <td>-0.010780</td>\n",
       "      <td>-0.408228</td>\n",
       "      <td>1.000000</td>\n",
       "      <td>-0.063017</td>\n",
       "      <td>0.072079</td>\n",
       "      <td>0.094469</td>\n",
       "      <td>-0.057496</td>\n",
       "      <td>0.256889</td>\n",
       "      <td>0.071254</td>\n",
       "      <td>0.230085</td>\n",
       "      <td>0.305732</td>\n",
       "      <td>0.090336</td>\n",
       "      <td>0.321955</td>\n",
       "      <td>-0.130898</td>\n",
       "      <td>-0.129771</td>\n",
       "      <td>0.110040</td>\n",
       "      <td>0.282269</td>\n",
       "      <td>0.228489</td>\n",
       "      <td>0.217190</td>\n",
       "      <td>0.307522</td>\n",
       "      <td>0.252219</td>\n",
       "      <td>-0.190757</td>\n",
       "      <td>-0.189237</td>\n",
       "      <td>-0.241851</td>\n",
       "      <td>0.179578</td>\n",
       "    </tr>\n",
       "    <tr>\n",
       "      <th>num_of_doors</th>\n",
       "      <td>0.672344</td>\n",
       "      <td>0.355303</td>\n",
       "      <td>0.186681</td>\n",
       "      <td>-0.063017</td>\n",
       "      <td>1.000000</td>\n",
       "      <td>-0.688542</td>\n",
       "      <td>0.115920</td>\n",
       "      <td>0.142340</td>\n",
       "      <td>-0.445245</td>\n",
       "      <td>-0.146172</td>\n",
       "      <td>-0.395122</td>\n",
       "      <td>-0.227655</td>\n",
       "      <td>-0.538383</td>\n",
       "      <td>-0.208517</td>\n",
       "      <td>0.109089</td>\n",
       "      <td>0.185434</td>\n",
       "      <td>-0.024094</td>\n",
       "      <td>-0.001246</td>\n",
       "      <td>-0.120915</td>\n",
       "      <td>0.010194</td>\n",
       "      <td>-0.169164</td>\n",
       "      <td>0.102504</td>\n",
       "      <td>0.232247</td>\n",
       "      <td>0.027617</td>\n",
       "      <td>0.045787</td>\n",
       "      <td>-0.042435</td>\n",
       "    </tr>\n",
       "    <tr>\n",
       "      <th>aspiration</th>\n",
       "      <td>-0.600333</td>\n",
       "      <td>-0.246047</td>\n",
       "      <td>-0.147654</td>\n",
       "      <td>0.072079</td>\n",
       "      <td>-0.688542</td>\n",
       "      <td>1.000000</td>\n",
       "      <td>-0.161004</td>\n",
       "      <td>-0.278350</td>\n",
       "      <td>0.407128</td>\n",
       "      <td>0.090621</td>\n",
       "      <td>0.347571</td>\n",
       "      <td>0.155366</td>\n",
       "      <td>0.571107</td>\n",
       "      <td>0.145762</td>\n",
       "      <td>-0.080350</td>\n",
       "      <td>-0.063741</td>\n",
       "      <td>-0.063692</td>\n",
       "      <td>-0.054810</td>\n",
       "      <td>0.022283</td>\n",
       "      <td>-0.014961</td>\n",
       "      <td>0.134622</td>\n",
       "      <td>-0.137536</td>\n",
       "      <td>-0.105006</td>\n",
       "      <td>0.014217</td>\n",
       "      <td>-0.021328</td>\n",
       "      <td>-0.072933</td>\n",
       "    </tr>\n",
       "    <tr>\n",
       "      <th>wheel_base</th>\n",
       "      <td>-0.053056</td>\n",
       "      <td>0.291007</td>\n",
       "      <td>-0.131096</td>\n",
       "      <td>0.094469</td>\n",
       "      <td>0.115920</td>\n",
       "      <td>-0.161004</td>\n",
       "      <td>1.000000</td>\n",
       "      <td>0.149369</td>\n",
       "      <td>0.467661</td>\n",
       "      <td>-0.034844</td>\n",
       "      <td>0.495197</td>\n",
       "      <td>0.481395</td>\n",
       "      <td>-0.025096</td>\n",
       "      <td>0.590642</td>\n",
       "      <td>-0.067339</td>\n",
       "      <td>0.231177</td>\n",
       "      <td>0.526027</td>\n",
       "      <td>0.435926</td>\n",
       "      <td>0.470027</td>\n",
       "      <td>0.081378</td>\n",
       "      <td>0.120125</td>\n",
       "      <td>0.547256</td>\n",
       "      <td>-0.036705</td>\n",
       "      <td>-0.469240</td>\n",
       "      <td>-0.472893</td>\n",
       "      <td>0.588333</td>\n",
       "    </tr>\n",
       "    <tr>\n",
       "      <th>engine_location</th>\n",
       "      <td>0.212339</td>\n",
       "      <td>-0.021948</td>\n",
       "      <td>0.040917</td>\n",
       "      <td>-0.057496</td>\n",
       "      <td>0.142340</td>\n",
       "      <td>-0.278350</td>\n",
       "      <td>0.149369</td>\n",
       "      <td>1.000000</td>\n",
       "      <td>-0.189115</td>\n",
       "      <td>0.053312</td>\n",
       "      <td>-0.053086</td>\n",
       "      <td>-0.052205</td>\n",
       "      <td>-0.109225</td>\n",
       "      <td>0.051287</td>\n",
       "      <td>0.125683</td>\n",
       "      <td>0.136009</td>\n",
       "      <td>0.199367</td>\n",
       "      <td>0.106735</td>\n",
       "      <td>0.188583</td>\n",
       "      <td>-0.139593</td>\n",
       "      <td>-0.020467</td>\n",
       "      <td>0.342336</td>\n",
       "      <td>0.201696</td>\n",
       "      <td>-0.157132</td>\n",
       "      <td>-0.102964</td>\n",
       "      <td>0.331062</td>\n",
       "    </tr>\n",
       "    <tr>\n",
       "      <th>drive_wheels</th>\n",
       "      <td>-0.535987</td>\n",
       "      <td>-0.075109</td>\n",
       "      <td>-0.307237</td>\n",
       "      <td>0.256889</td>\n",
       "      <td>-0.445245</td>\n",
       "      <td>0.407128</td>\n",
       "      <td>0.467661</td>\n",
       "      <td>-0.189115</td>\n",
       "      <td>1.000000</td>\n",
       "      <td>0.073930</td>\n",
       "      <td>0.876024</td>\n",
       "      <td>0.814507</td>\n",
       "      <td>0.590742</td>\n",
       "      <td>0.782097</td>\n",
       "      <td>-0.143928</td>\n",
       "      <td>-0.190489</td>\n",
       "      <td>0.572027</td>\n",
       "      <td>0.381273</td>\n",
       "      <td>0.494065</td>\n",
       "      <td>0.156740</td>\n",
       "      <td>0.250313</td>\n",
       "      <td>0.372156</td>\n",
       "      <td>-0.360946</td>\n",
       "      <td>-0.470606</td>\n",
       "      <td>-0.543304</td>\n",
       "      <td>0.584642</td>\n",
       "    </tr>\n",
       "    <tr>\n",
       "      <th>body_style</th>\n",
       "      <td>-0.129645</td>\n",
       "      <td>-0.237573</td>\n",
       "      <td>-0.109330</td>\n",
       "      <td>0.071254</td>\n",
       "      <td>-0.146172</td>\n",
       "      <td>0.090621</td>\n",
       "      <td>-0.034844</td>\n",
       "      <td>0.053312</td>\n",
       "      <td>0.073930</td>\n",
       "      <td>1.000000</td>\n",
       "      <td>0.110468</td>\n",
       "      <td>-0.005115</td>\n",
       "      <td>0.230754</td>\n",
       "      <td>0.017115</td>\n",
       "      <td>-0.044549</td>\n",
       "      <td>-0.049947</td>\n",
       "      <td>-0.084770</td>\n",
       "      <td>0.144769</td>\n",
       "      <td>0.237813</td>\n",
       "      <td>-0.205173</td>\n",
       "      <td>0.132554</td>\n",
       "      <td>-0.065912</td>\n",
       "      <td>-0.211957</td>\n",
       "      <td>0.065761</td>\n",
       "      <td>0.059111</td>\n",
       "      <td>-0.163646</td>\n",
       "    </tr>\n",
       "    <tr>\n",
       "      <th>length</th>\n",
       "      <td>-0.365404</td>\n",
       "      <td>-0.009116</td>\n",
       "      <td>-0.211187</td>\n",
       "      <td>0.230085</td>\n",
       "      <td>-0.395122</td>\n",
       "      <td>0.347571</td>\n",
       "      <td>0.495197</td>\n",
       "      <td>-0.053086</td>\n",
       "      <td>0.876024</td>\n",
       "      <td>0.110468</td>\n",
       "      <td>1.000000</td>\n",
       "      <td>0.857170</td>\n",
       "      <td>0.492063</td>\n",
       "      <td>0.880665</td>\n",
       "      <td>-0.089669</td>\n",
       "      <td>-0.111660</td>\n",
       "      <td>0.685025</td>\n",
       "      <td>0.551120</td>\n",
       "      <td>0.609557</td>\n",
       "      <td>0.123016</td>\n",
       "      <td>0.159733</td>\n",
       "      <td>0.578683</td>\n",
       "      <td>-0.285301</td>\n",
       "      <td>-0.665192</td>\n",
       "      <td>-0.698142</td>\n",
       "      <td>0.690628</td>\n",
       "    </tr>\n",
       "    <tr>\n",
       "      <th>width</th>\n",
       "      <td>-0.242423</td>\n",
       "      <td>0.061799</td>\n",
       "      <td>-0.244356</td>\n",
       "      <td>0.305732</td>\n",
       "      <td>-0.227655</td>\n",
       "      <td>0.155366</td>\n",
       "      <td>0.481395</td>\n",
       "      <td>-0.052205</td>\n",
       "      <td>0.814507</td>\n",
       "      <td>-0.005115</td>\n",
       "      <td>0.857170</td>\n",
       "      <td>1.000000</td>\n",
       "      <td>0.306002</td>\n",
       "      <td>0.866201</td>\n",
       "      <td>0.065350</td>\n",
       "      <td>-0.158449</td>\n",
       "      <td>0.729436</td>\n",
       "      <td>0.513371</td>\n",
       "      <td>0.544986</td>\n",
       "      <td>0.188605</td>\n",
       "      <td>0.189867</td>\n",
       "      <td>0.614146</td>\n",
       "      <td>-0.245273</td>\n",
       "      <td>-0.633531</td>\n",
       "      <td>-0.680635</td>\n",
       "      <td>0.751265</td>\n",
       "    </tr>\n",
       "    <tr>\n",
       "      <th>height</th>\n",
       "      <td>-0.550160</td>\n",
       "      <td>-0.371830</td>\n",
       "      <td>-0.281578</td>\n",
       "      <td>0.090336</td>\n",
       "      <td>-0.538383</td>\n",
       "      <td>0.571107</td>\n",
       "      <td>-0.025096</td>\n",
       "      <td>-0.109225</td>\n",
       "      <td>0.590742</td>\n",
       "      <td>0.230754</td>\n",
       "      <td>0.492063</td>\n",
       "      <td>0.306002</td>\n",
       "      <td>1.000000</td>\n",
       "      <td>0.307581</td>\n",
       "      <td>-0.195070</td>\n",
       "      <td>-0.317029</td>\n",
       "      <td>0.074694</td>\n",
       "      <td>0.018196</td>\n",
       "      <td>0.182946</td>\n",
       "      <td>-0.064380</td>\n",
       "      <td>0.259737</td>\n",
       "      <td>-0.086078</td>\n",
       "      <td>-0.310513</td>\n",
       "      <td>-0.049800</td>\n",
       "      <td>-0.104812</td>\n",
       "      <td>0.135486</td>\n",
       "    </tr>\n",
       "    <tr>\n",
       "      <th>curb_weight</th>\n",
       "      <td>-0.233118</td>\n",
       "      <td>0.065393</td>\n",
       "      <td>-0.221046</td>\n",
       "      <td>0.321955</td>\n",
       "      <td>-0.208517</td>\n",
       "      <td>0.145762</td>\n",
       "      <td>0.590642</td>\n",
       "      <td>0.051287</td>\n",
       "      <td>0.782097</td>\n",
       "      <td>0.017115</td>\n",
       "      <td>0.880665</td>\n",
       "      <td>0.866201</td>\n",
       "      <td>0.307581</td>\n",
       "      <td>1.000000</td>\n",
       "      <td>0.005191</td>\n",
       "      <td>-0.022989</td>\n",
       "      <td>0.849072</td>\n",
       "      <td>0.602638</td>\n",
       "      <td>0.644434</td>\n",
       "      <td>0.166809</td>\n",
       "      <td>0.156433</td>\n",
       "      <td>0.757961</td>\n",
       "      <td>-0.279429</td>\n",
       "      <td>-0.749543</td>\n",
       "      <td>-0.794889</td>\n",
       "      <td>0.834415</td>\n",
       "    </tr>\n",
       "    <tr>\n",
       "      <th>engine_type</th>\n",
       "      <td>0.091801</td>\n",
       "      <td>-0.054761</td>\n",
       "      <td>0.124051</td>\n",
       "      <td>-0.130898</td>\n",
       "      <td>0.109089</td>\n",
       "      <td>-0.080350</td>\n",
       "      <td>-0.067339</td>\n",
       "      <td>0.125683</td>\n",
       "      <td>-0.143928</td>\n",
       "      <td>-0.044549</td>\n",
       "      <td>-0.089669</td>\n",
       "      <td>0.065350</td>\n",
       "      <td>-0.195070</td>\n",
       "      <td>0.005191</td>\n",
       "      <td>1.000000</td>\n",
       "      <td>0.288396</td>\n",
       "      <td>0.118248</td>\n",
       "      <td>-0.042551</td>\n",
       "      <td>0.073976</td>\n",
       "      <td>-0.161016</td>\n",
       "      <td>-0.105280</td>\n",
       "      <td>0.144629</td>\n",
       "      <td>0.057437</td>\n",
       "      <td>-0.171524</td>\n",
       "      <td>-0.156458</td>\n",
       "      <td>0.126025</td>\n",
       "    </tr>\n",
       "    <tr>\n",
       "      <th>num_of_cylinders</th>\n",
       "      <td>0.199377</td>\n",
       "      <td>0.171445</td>\n",
       "      <td>0.120638</td>\n",
       "      <td>-0.129771</td>\n",
       "      <td>0.185434</td>\n",
       "      <td>-0.063741</td>\n",
       "      <td>0.231177</td>\n",
       "      <td>0.136009</td>\n",
       "      <td>-0.190489</td>\n",
       "      <td>-0.049947</td>\n",
       "      <td>-0.111660</td>\n",
       "      <td>-0.158449</td>\n",
       "      <td>-0.317029</td>\n",
       "      <td>-0.022989</td>\n",
       "      <td>0.288396</td>\n",
       "      <td>1.000000</td>\n",
       "      <td>-0.064607</td>\n",
       "      <td>0.028508</td>\n",
       "      <td>-0.018001</td>\n",
       "      <td>-0.044192</td>\n",
       "      <td>-0.072699</td>\n",
       "      <td>0.202275</td>\n",
       "      <td>0.253655</td>\n",
       "      <td>-0.157424</td>\n",
       "      <td>-0.101386</td>\n",
       "      <td>0.005509</td>\n",
       "    </tr>\n",
       "    <tr>\n",
       "      <th>engine_size</th>\n",
       "      <td>-0.110581</td>\n",
       "      <td>0.073586</td>\n",
       "      <td>-0.070779</td>\n",
       "      <td>0.110040</td>\n",
       "      <td>-0.024094</td>\n",
       "      <td>-0.063692</td>\n",
       "      <td>0.526027</td>\n",
       "      <td>0.199367</td>\n",
       "      <td>0.572027</td>\n",
       "      <td>-0.084770</td>\n",
       "      <td>0.685025</td>\n",
       "      <td>0.729436</td>\n",
       "      <td>0.074694</td>\n",
       "      <td>0.849072</td>\n",
       "      <td>0.118248</td>\n",
       "      <td>-0.064607</td>\n",
       "      <td>1.000000</td>\n",
       "      <td>0.507264</td>\n",
       "      <td>0.574504</td>\n",
       "      <td>0.203043</td>\n",
       "      <td>0.028889</td>\n",
       "      <td>0.822167</td>\n",
       "      <td>-0.256503</td>\n",
       "      <td>-0.650546</td>\n",
       "      <td>-0.679571</td>\n",
       "      <td>0.872335</td>\n",
       "    </tr>\n",
       "    <tr>\n",
       "      <th>fuel_system</th>\n",
       "      <td>0.091601</td>\n",
       "      <td>0.198932</td>\n",
       "      <td>0.042824</td>\n",
       "      <td>0.282269</td>\n",
       "      <td>-0.001246</td>\n",
       "      <td>-0.054810</td>\n",
       "      <td>0.435926</td>\n",
       "      <td>0.106735</td>\n",
       "      <td>0.381273</td>\n",
       "      <td>0.144769</td>\n",
       "      <td>0.551120</td>\n",
       "      <td>0.513371</td>\n",
       "      <td>0.018196</td>\n",
       "      <td>0.602638</td>\n",
       "      <td>-0.042551</td>\n",
       "      <td>0.028508</td>\n",
       "      <td>0.507264</td>\n",
       "      <td>1.000000</td>\n",
       "      <td>0.471324</td>\n",
       "      <td>0.083502</td>\n",
       "      <td>-0.099933</td>\n",
       "      <td>0.670758</td>\n",
       "      <td>0.013727</td>\n",
       "      <td>-0.663651</td>\n",
       "      <td>-0.638017</td>\n",
       "      <td>0.521689</td>\n",
       "    </tr>\n",
       "    <tr>\n",
       "      <th>bore</th>\n",
       "      <td>-0.142547</td>\n",
       "      <td>-0.052094</td>\n",
       "      <td>-0.054944</td>\n",
       "      <td>0.228489</td>\n",
       "      <td>-0.120915</td>\n",
       "      <td>0.022283</td>\n",
       "      <td>0.470027</td>\n",
       "      <td>0.188583</td>\n",
       "      <td>0.494065</td>\n",
       "      <td>0.237813</td>\n",
       "      <td>0.609557</td>\n",
       "      <td>0.544986</td>\n",
       "      <td>0.182946</td>\n",
       "      <td>0.644434</td>\n",
       "      <td>0.073976</td>\n",
       "      <td>-0.018001</td>\n",
       "      <td>0.574504</td>\n",
       "      <td>0.471324</td>\n",
       "      <td>1.000000</td>\n",
       "      <td>-0.055539</td>\n",
       "      <td>0.001544</td>\n",
       "      <td>0.565324</td>\n",
       "      <td>-0.269301</td>\n",
       "      <td>-0.580059</td>\n",
       "      <td>-0.589613</td>\n",
       "      <td>0.543158</td>\n",
       "    </tr>\n",
       "    <tr>\n",
       "      <th>stroke</th>\n",
       "      <td>-0.004387</td>\n",
       "      <td>0.046024</td>\n",
       "      <td>-0.240312</td>\n",
       "      <td>0.217190</td>\n",
       "      <td>0.010194</td>\n",
       "      <td>-0.014961</td>\n",
       "      <td>0.081378</td>\n",
       "      <td>-0.139593</td>\n",
       "      <td>0.156740</td>\n",
       "      <td>-0.205173</td>\n",
       "      <td>0.123016</td>\n",
       "      <td>0.188605</td>\n",
       "      <td>-0.064380</td>\n",
       "      <td>0.166809</td>\n",
       "      <td>-0.161016</td>\n",
       "      <td>-0.044192</td>\n",
       "      <td>0.203043</td>\n",
       "      <td>0.083502</td>\n",
       "      <td>-0.055539</td>\n",
       "      <td>1.000000</td>\n",
       "      <td>0.187434</td>\n",
       "      <td>0.093555</td>\n",
       "      <td>-0.056336</td>\n",
       "      <td>-0.036823</td>\n",
       "      <td>-0.037100</td>\n",
       "      <td>0.082209</td>\n",
       "    </tr>\n",
       "    <tr>\n",
       "      <th>compression_ratio</th>\n",
       "      <td>-0.182196</td>\n",
       "      <td>-0.115967</td>\n",
       "      <td>-0.985231</td>\n",
       "      <td>0.307522</td>\n",
       "      <td>-0.169164</td>\n",
       "      <td>0.134622</td>\n",
       "      <td>0.120125</td>\n",
       "      <td>-0.020467</td>\n",
       "      <td>0.250313</td>\n",
       "      <td>0.132554</td>\n",
       "      <td>0.159733</td>\n",
       "      <td>0.189867</td>\n",
       "      <td>0.259737</td>\n",
       "      <td>0.156433</td>\n",
       "      <td>-0.105280</td>\n",
       "      <td>-0.072699</td>\n",
       "      <td>0.028889</td>\n",
       "      <td>-0.099933</td>\n",
       "      <td>0.001544</td>\n",
       "      <td>0.187434</td>\n",
       "      <td>1.000000</td>\n",
       "      <td>-0.213556</td>\n",
       "      <td>-0.436287</td>\n",
       "      <td>0.331425</td>\n",
       "      <td>0.268465</td>\n",
       "      <td>0.071107</td>\n",
       "    </tr>\n",
       "    <tr>\n",
       "      <th>horsepower</th>\n",
       "      <td>0.075486</td>\n",
       "      <td>0.182479</td>\n",
       "      <td>0.168190</td>\n",
       "      <td>0.252219</td>\n",
       "      <td>0.102504</td>\n",
       "      <td>-0.137536</td>\n",
       "      <td>0.547256</td>\n",
       "      <td>0.342336</td>\n",
       "      <td>0.372156</td>\n",
       "      <td>-0.065912</td>\n",
       "      <td>0.578683</td>\n",
       "      <td>0.614146</td>\n",
       "      <td>-0.086078</td>\n",
       "      <td>0.757961</td>\n",
       "      <td>0.144629</td>\n",
       "      <td>0.202275</td>\n",
       "      <td>0.822167</td>\n",
       "      <td>0.670758</td>\n",
       "      <td>0.565324</td>\n",
       "      <td>0.093555</td>\n",
       "      <td>-0.213556</td>\n",
       "      <td>1.000000</td>\n",
       "      <td>0.107455</td>\n",
       "      <td>-0.821171</td>\n",
       "      <td>-0.804490</td>\n",
       "      <td>0.810500</td>\n",
       "    </tr>\n",
       "    <tr>\n",
       "      <th>peak_rpm</th>\n",
       "      <td>0.279897</td>\n",
       "      <td>0.245899</td>\n",
       "      <td>0.476260</td>\n",
       "      <td>-0.190757</td>\n",
       "      <td>0.232247</td>\n",
       "      <td>-0.105006</td>\n",
       "      <td>-0.036705</td>\n",
       "      <td>0.201696</td>\n",
       "      <td>-0.360946</td>\n",
       "      <td>-0.211957</td>\n",
       "      <td>-0.285301</td>\n",
       "      <td>-0.245273</td>\n",
       "      <td>-0.310513</td>\n",
       "      <td>-0.279429</td>\n",
       "      <td>0.057437</td>\n",
       "      <td>0.253655</td>\n",
       "      <td>-0.256503</td>\n",
       "      <td>0.013727</td>\n",
       "      <td>-0.269301</td>\n",
       "      <td>-0.056336</td>\n",
       "      <td>-0.436287</td>\n",
       "      <td>0.107455</td>\n",
       "      <td>1.000000</td>\n",
       "      <td>-0.115926</td>\n",
       "      <td>-0.058517</td>\n",
       "      <td>-0.102310</td>\n",
       "    </tr>\n",
       "    <tr>\n",
       "      <th>city_mpg</th>\n",
       "      <td>-0.035527</td>\n",
       "      <td>-0.193896</td>\n",
       "      <td>-0.265676</td>\n",
       "      <td>-0.189237</td>\n",
       "      <td>0.027617</td>\n",
       "      <td>0.014217</td>\n",
       "      <td>-0.469240</td>\n",
       "      <td>-0.157132</td>\n",
       "      <td>-0.470606</td>\n",
       "      <td>0.065761</td>\n",
       "      <td>-0.665192</td>\n",
       "      <td>-0.633531</td>\n",
       "      <td>-0.049800</td>\n",
       "      <td>-0.749543</td>\n",
       "      <td>-0.171524</td>\n",
       "      <td>-0.157424</td>\n",
       "      <td>-0.650546</td>\n",
       "      <td>-0.663651</td>\n",
       "      <td>-0.580059</td>\n",
       "      <td>-0.036823</td>\n",
       "      <td>0.331425</td>\n",
       "      <td>-0.821171</td>\n",
       "      <td>-0.115926</td>\n",
       "      <td>1.000000</td>\n",
       "      <td>0.972044</td>\n",
       "      <td>-0.686571</td>\n",
       "    </tr>\n",
       "    <tr>\n",
       "      <th>highway_mpg</th>\n",
       "      <td>0.036233</td>\n",
       "      <td>-0.150773</td>\n",
       "      <td>-0.198690</td>\n",
       "      <td>-0.241851</td>\n",
       "      <td>0.045787</td>\n",
       "      <td>-0.021328</td>\n",
       "      <td>-0.472893</td>\n",
       "      <td>-0.102964</td>\n",
       "      <td>-0.543304</td>\n",
       "      <td>0.059111</td>\n",
       "      <td>-0.698142</td>\n",
       "      <td>-0.680635</td>\n",
       "      <td>-0.104812</td>\n",
       "      <td>-0.794889</td>\n",
       "      <td>-0.156458</td>\n",
       "      <td>-0.101386</td>\n",
       "      <td>-0.679571</td>\n",
       "      <td>-0.638017</td>\n",
       "      <td>-0.589613</td>\n",
       "      <td>-0.037100</td>\n",
       "      <td>0.268465</td>\n",
       "      <td>-0.804490</td>\n",
       "      <td>-0.058517</td>\n",
       "      <td>0.972044</td>\n",
       "      <td>1.000000</td>\n",
       "      <td>-0.704692</td>\n",
       "    </tr>\n",
       "    <tr>\n",
       "      <th>price</th>\n",
       "      <td>-0.082391</td>\n",
       "      <td>0.094366</td>\n",
       "      <td>-0.110326</td>\n",
       "      <td>0.179578</td>\n",
       "      <td>-0.042435</td>\n",
       "      <td>-0.072933</td>\n",
       "      <td>0.588333</td>\n",
       "      <td>0.331062</td>\n",
       "      <td>0.584642</td>\n",
       "      <td>-0.163646</td>\n",
       "      <td>0.690628</td>\n",
       "      <td>0.751265</td>\n",
       "      <td>0.135486</td>\n",
       "      <td>0.834415</td>\n",
       "      <td>0.126025</td>\n",
       "      <td>0.005509</td>\n",
       "      <td>0.872335</td>\n",
       "      <td>0.521689</td>\n",
       "      <td>0.543158</td>\n",
       "      <td>0.082209</td>\n",
       "      <td>0.071107</td>\n",
       "      <td>0.810500</td>\n",
       "      <td>-0.102310</td>\n",
       "      <td>-0.686571</td>\n",
       "      <td>-0.704692</td>\n",
       "      <td>1.000000</td>\n",
       "    </tr>\n",
       "  </tbody>\n",
       "</table>\n",
       "</div>"
      ],
      "text/plain": [
       "                   symboling  normalized_losses  Fuel_type      make  \\\n",
       "symboling           1.000000           0.457735   0.196735 -0.054615   \n",
       "normalized_losses   0.457735           1.000000   0.105970 -0.010780   \n",
       "Fuel_type           0.196735           0.105970   1.000000 -0.408228   \n",
       "make               -0.054615          -0.010780  -0.408228  1.000000   \n",
       "num_of_doors        0.672344           0.355303   0.186681 -0.063017   \n",
       "aspiration         -0.600333          -0.246047  -0.147654  0.072079   \n",
       "wheel_base         -0.053056           0.291007  -0.131096  0.094469   \n",
       "engine_location     0.212339          -0.021948   0.040917 -0.057496   \n",
       "drive_wheels       -0.535987          -0.075109  -0.307237  0.256889   \n",
       "body_style         -0.129645          -0.237573  -0.109330  0.071254   \n",
       "length             -0.365404          -0.009116  -0.211187  0.230085   \n",
       "width              -0.242423           0.061799  -0.244356  0.305732   \n",
       "height             -0.550160          -0.371830  -0.281578  0.090336   \n",
       "curb_weight        -0.233118           0.065393  -0.221046  0.321955   \n",
       "engine_type         0.091801          -0.054761   0.124051 -0.130898   \n",
       "num_of_cylinders    0.199377           0.171445   0.120638 -0.129771   \n",
       "engine_size        -0.110581           0.073586  -0.070779  0.110040   \n",
       "fuel_system         0.091601           0.198932   0.042824  0.282269   \n",
       "bore               -0.142547          -0.052094  -0.054944  0.228489   \n",
       "stroke             -0.004387           0.046024  -0.240312  0.217190   \n",
       "compression_ratio  -0.182196          -0.115967  -0.985231  0.307522   \n",
       "horsepower          0.075486           0.182479   0.168190  0.252219   \n",
       "peak_rpm            0.279897           0.245899   0.476260 -0.190757   \n",
       "city_mpg           -0.035527          -0.193896  -0.265676 -0.189237   \n",
       "highway_mpg         0.036233          -0.150773  -0.198690 -0.241851   \n",
       "price              -0.082391           0.094366  -0.110326  0.179578   \n",
       "\n",
       "                   num_of_doors  aspiration  wheel_base  engine_location  \\\n",
       "symboling              0.672344   -0.600333   -0.053056         0.212339   \n",
       "normalized_losses      0.355303   -0.246047    0.291007        -0.021948   \n",
       "Fuel_type              0.186681   -0.147654   -0.131096         0.040917   \n",
       "make                  -0.063017    0.072079    0.094469        -0.057496   \n",
       "num_of_doors           1.000000   -0.688542    0.115920         0.142340   \n",
       "aspiration            -0.688542    1.000000   -0.161004        -0.278350   \n",
       "wheel_base             0.115920   -0.161004    1.000000         0.149369   \n",
       "engine_location        0.142340   -0.278350    0.149369         1.000000   \n",
       "drive_wheels          -0.445245    0.407128    0.467661        -0.189115   \n",
       "body_style            -0.146172    0.090621   -0.034844         0.053312   \n",
       "length                -0.395122    0.347571    0.495197        -0.053086   \n",
       "width                 -0.227655    0.155366    0.481395        -0.052205   \n",
       "height                -0.538383    0.571107   -0.025096        -0.109225   \n",
       "curb_weight           -0.208517    0.145762    0.590642         0.051287   \n",
       "engine_type            0.109089   -0.080350   -0.067339         0.125683   \n",
       "num_of_cylinders       0.185434   -0.063741    0.231177         0.136009   \n",
       "engine_size           -0.024094   -0.063692    0.526027         0.199367   \n",
       "fuel_system           -0.001246   -0.054810    0.435926         0.106735   \n",
       "bore                  -0.120915    0.022283    0.470027         0.188583   \n",
       "stroke                 0.010194   -0.014961    0.081378        -0.139593   \n",
       "compression_ratio     -0.169164    0.134622    0.120125        -0.020467   \n",
       "horsepower             0.102504   -0.137536    0.547256         0.342336   \n",
       "peak_rpm               0.232247   -0.105006   -0.036705         0.201696   \n",
       "city_mpg               0.027617    0.014217   -0.469240        -0.157132   \n",
       "highway_mpg            0.045787   -0.021328   -0.472893        -0.102964   \n",
       "price                 -0.042435   -0.072933    0.588333         0.331062   \n",
       "\n",
       "                   drive_wheels  body_style    length     width    height  \\\n",
       "symboling             -0.535987   -0.129645 -0.365404 -0.242423 -0.550160   \n",
       "normalized_losses     -0.075109   -0.237573 -0.009116  0.061799 -0.371830   \n",
       "Fuel_type             -0.307237   -0.109330 -0.211187 -0.244356 -0.281578   \n",
       "make                   0.256889    0.071254  0.230085  0.305732  0.090336   \n",
       "num_of_doors          -0.445245   -0.146172 -0.395122 -0.227655 -0.538383   \n",
       "aspiration             0.407128    0.090621  0.347571  0.155366  0.571107   \n",
       "wheel_base             0.467661   -0.034844  0.495197  0.481395 -0.025096   \n",
       "engine_location       -0.189115    0.053312 -0.053086 -0.052205 -0.109225   \n",
       "drive_wheels           1.000000    0.073930  0.876024  0.814507  0.590742   \n",
       "body_style             0.073930    1.000000  0.110468 -0.005115  0.230754   \n",
       "length                 0.876024    0.110468  1.000000  0.857170  0.492063   \n",
       "width                  0.814507   -0.005115  0.857170  1.000000  0.306002   \n",
       "height                 0.590742    0.230754  0.492063  0.306002  1.000000   \n",
       "curb_weight            0.782097    0.017115  0.880665  0.866201  0.307581   \n",
       "engine_type           -0.143928   -0.044549 -0.089669  0.065350 -0.195070   \n",
       "num_of_cylinders      -0.190489   -0.049947 -0.111660 -0.158449 -0.317029   \n",
       "engine_size            0.572027   -0.084770  0.685025  0.729436  0.074694   \n",
       "fuel_system            0.381273    0.144769  0.551120  0.513371  0.018196   \n",
       "bore                   0.494065    0.237813  0.609557  0.544986  0.182946   \n",
       "stroke                 0.156740   -0.205173  0.123016  0.188605 -0.064380   \n",
       "compression_ratio      0.250313    0.132554  0.159733  0.189867  0.259737   \n",
       "horsepower             0.372156   -0.065912  0.578683  0.614146 -0.086078   \n",
       "peak_rpm              -0.360946   -0.211957 -0.285301 -0.245273 -0.310513   \n",
       "city_mpg              -0.470606    0.065761 -0.665192 -0.633531 -0.049800   \n",
       "highway_mpg           -0.543304    0.059111 -0.698142 -0.680635 -0.104812   \n",
       "price                  0.584642   -0.163646  0.690628  0.751265  0.135486   \n",
       "\n",
       "                   curb_weight  engine_type  num_of_cylinders  engine_size  \\\n",
       "symboling            -0.233118     0.091801          0.199377    -0.110581   \n",
       "normalized_losses     0.065393    -0.054761          0.171445     0.073586   \n",
       "Fuel_type            -0.221046     0.124051          0.120638    -0.070779   \n",
       "make                  0.321955    -0.130898         -0.129771     0.110040   \n",
       "num_of_doors         -0.208517     0.109089          0.185434    -0.024094   \n",
       "aspiration            0.145762    -0.080350         -0.063741    -0.063692   \n",
       "wheel_base            0.590642    -0.067339          0.231177     0.526027   \n",
       "engine_location       0.051287     0.125683          0.136009     0.199367   \n",
       "drive_wheels          0.782097    -0.143928         -0.190489     0.572027   \n",
       "body_style            0.017115    -0.044549         -0.049947    -0.084770   \n",
       "length                0.880665    -0.089669         -0.111660     0.685025   \n",
       "width                 0.866201     0.065350         -0.158449     0.729436   \n",
       "height                0.307581    -0.195070         -0.317029     0.074694   \n",
       "curb_weight           1.000000     0.005191         -0.022989     0.849072   \n",
       "engine_type           0.005191     1.000000          0.288396     0.118248   \n",
       "num_of_cylinders     -0.022989     0.288396          1.000000    -0.064607   \n",
       "engine_size           0.849072     0.118248         -0.064607     1.000000   \n",
       "fuel_system           0.602638    -0.042551          0.028508     0.507264   \n",
       "bore                  0.644434     0.073976         -0.018001     0.574504   \n",
       "stroke                0.166809    -0.161016         -0.044192     0.203043   \n",
       "compression_ratio     0.156433    -0.105280         -0.072699     0.028889   \n",
       "horsepower            0.757961     0.144629          0.202275     0.822167   \n",
       "peak_rpm             -0.279429     0.057437          0.253655    -0.256503   \n",
       "city_mpg             -0.749543    -0.171524         -0.157424    -0.650546   \n",
       "highway_mpg          -0.794889    -0.156458         -0.101386    -0.679571   \n",
       "price                 0.834415     0.126025          0.005509     0.872335   \n",
       "\n",
       "                   fuel_system      bore    stroke  compression_ratio  \\\n",
       "symboling             0.091601 -0.142547 -0.004387          -0.182196   \n",
       "normalized_losses     0.198932 -0.052094  0.046024          -0.115967   \n",
       "Fuel_type             0.042824 -0.054944 -0.240312          -0.985231   \n",
       "make                  0.282269  0.228489  0.217190           0.307522   \n",
       "num_of_doors         -0.001246 -0.120915  0.010194          -0.169164   \n",
       "aspiration           -0.054810  0.022283 -0.014961           0.134622   \n",
       "wheel_base            0.435926  0.470027  0.081378           0.120125   \n",
       "engine_location       0.106735  0.188583 -0.139593          -0.020467   \n",
       "drive_wheels          0.381273  0.494065  0.156740           0.250313   \n",
       "body_style            0.144769  0.237813 -0.205173           0.132554   \n",
       "length                0.551120  0.609557  0.123016           0.159733   \n",
       "width                 0.513371  0.544986  0.188605           0.189867   \n",
       "height                0.018196  0.182946 -0.064380           0.259737   \n",
       "curb_weight           0.602638  0.644434  0.166809           0.156433   \n",
       "engine_type          -0.042551  0.073976 -0.161016          -0.105280   \n",
       "num_of_cylinders      0.028508 -0.018001 -0.044192          -0.072699   \n",
       "engine_size           0.507264  0.574504  0.203043           0.028889   \n",
       "fuel_system           1.000000  0.471324  0.083502          -0.099933   \n",
       "bore                  0.471324  1.000000 -0.055539           0.001544   \n",
       "stroke                0.083502 -0.055539  1.000000           0.187434   \n",
       "compression_ratio    -0.099933  0.001544  0.187434           1.000000   \n",
       "horsepower            0.670758  0.565324  0.093555          -0.213556   \n",
       "peak_rpm              0.013727 -0.269301 -0.056336          -0.436287   \n",
       "city_mpg             -0.663651 -0.580059 -0.036823           0.331425   \n",
       "highway_mpg          -0.638017 -0.589613 -0.037100           0.268465   \n",
       "price                 0.521689  0.543158  0.082209           0.071107   \n",
       "\n",
       "                   horsepower  peak_rpm  city_mpg  highway_mpg     price  \n",
       "symboling            0.075486  0.279897 -0.035527     0.036233 -0.082391  \n",
       "normalized_losses    0.182479  0.245899 -0.193896    -0.150773  0.094366  \n",
       "Fuel_type            0.168190  0.476260 -0.265676    -0.198690 -0.110326  \n",
       "make                 0.252219 -0.190757 -0.189237    -0.241851  0.179578  \n",
       "num_of_doors         0.102504  0.232247  0.027617     0.045787 -0.042435  \n",
       "aspiration          -0.137536 -0.105006  0.014217    -0.021328 -0.072933  \n",
       "wheel_base           0.547256 -0.036705 -0.469240    -0.472893  0.588333  \n",
       "engine_location      0.342336  0.201696 -0.157132    -0.102964  0.331062  \n",
       "drive_wheels         0.372156 -0.360946 -0.470606    -0.543304  0.584642  \n",
       "body_style          -0.065912 -0.211957  0.065761     0.059111 -0.163646  \n",
       "length               0.578683 -0.285301 -0.665192    -0.698142  0.690628  \n",
       "width                0.614146 -0.245273 -0.633531    -0.680635  0.751265  \n",
       "height              -0.086078 -0.310513 -0.049800    -0.104812  0.135486  \n",
       "curb_weight          0.757961 -0.279429 -0.749543    -0.794889  0.834415  \n",
       "engine_type          0.144629  0.057437 -0.171524    -0.156458  0.126025  \n",
       "num_of_cylinders     0.202275  0.253655 -0.157424    -0.101386  0.005509  \n",
       "engine_size          0.822167 -0.256503 -0.650546    -0.679571  0.872335  \n",
       "fuel_system          0.670758  0.013727 -0.663651    -0.638017  0.521689  \n",
       "bore                 0.565324 -0.269301 -0.580059    -0.589613  0.543158  \n",
       "stroke               0.093555 -0.056336 -0.036823    -0.037100  0.082209  \n",
       "compression_ratio   -0.213556 -0.436287  0.331425     0.268465  0.071107  \n",
       "horsepower           1.000000  0.107455 -0.821171    -0.804490  0.810500  \n",
       "peak_rpm             0.107455  1.000000 -0.115926    -0.058517 -0.102310  \n",
       "city_mpg            -0.821171 -0.115926  1.000000     0.972044 -0.686571  \n",
       "highway_mpg         -0.804490 -0.058517  0.972044     1.000000 -0.704692  \n",
       "price                0.810500 -0.102310 -0.686571    -0.704692  1.000000  "
      ]
     },
     "execution_count": 22,
     "metadata": {},
     "output_type": "execute_result"
    }
   ],
   "source": [
    "corr = data.corr()\n",
    "corr"
   ]
  },
  {
   "cell_type": "code",
   "execution_count": 23,
   "metadata": {},
   "outputs": [
    {
     "data": {
      "text/plain": [
       "price           1.000000\n",
       "engine_size     0.872335\n",
       "curb_weight     0.834415\n",
       "horsepower      0.810500\n",
       "width           0.751265\n",
       "length          0.690628\n",
       "wheel_base      0.588333\n",
       "drive_wheels    0.584642\n",
       "bore            0.543158\n",
       "fuel_system     0.521689\n",
       "Name: price, dtype: float64"
      ]
     },
     "execution_count": 23,
     "metadata": {},
     "output_type": "execute_result"
    }
   ],
   "source": [
    "corr.price.sort_values(ascending=False).head(10)\n",
    "# As we have engine_size, R2 will be atleast/Around 87."
   ]
  },
  {
   "cell_type": "code",
   "execution_count": 24,
   "metadata": {},
   "outputs": [
    {
     "data": {
      "text/plain": [
       "<AxesSubplot:>"
      ]
     },
     "execution_count": 24,
     "metadata": {},
     "output_type": "execute_result"
    },
    {
     "data": {
      "image/png": "[encoded data removed]",
      "text/plain": [
       "<Figure size 720x576 with 2 Axes>"
      ]
     },
     "metadata": {
      "needs_background": "light"
     },
     "output_type": "display_data"
    }
   ],
   "source": [
    "plt.figure(figsize=(10,8))\n",
    "sns.heatmap(corr,cmap=\"coolwarm\")"
   ]
  },
  {
   "cell_type": "markdown",
   "metadata": {},
   "source": [
    "# 6.Model Building - 1(On original Data)"
   ]
  },
  {
   "cell_type": "code",
   "execution_count": 25,
   "metadata": {},
   "outputs": [
    {
     "data": {
      "text/plain": [
       "LinearRegression()"
      ]
     },
     "execution_count": 25,
     "metadata": {},
     "output_type": "execute_result"
    }
   ],
   "source": [
    "from sklearn.linear_model import LinearRegression\n",
    "\n",
    "LR = LinearRegression()\n",
    "\n",
    "LR.fit(X_train , y_train)"
   ]
  },
  {
   "cell_type": "code",
   "execution_count": null,
   "metadata": {},
   "outputs": [],
   "source": []
  },
  {
   "cell_type": "code",
   "execution_count": 99,
   "metadata": {},
   "outputs": [
    {
     "name": "stdout",
     "output_type": "stream",
     "text": [
      "The Intercept of our Model is :  -55465.16338267594\n",
      "****************************************************************************************************\n",
      "The Coefficient's of our Model  : \n",
      "  [ 1.94262470e+02 -1.78293505e+01 -3.11714543e+03  7.07745466e+02\n",
      " -1.25872421e+03 -1.11308963e+03  1.21461758e+03  1.03293649e+04\n",
      "  9.71403726e+00 -1.92662459e+02  1.45487324e+01  6.30764035e+02\n",
      "  2.44563912e+02  3.07563480e+00  8.40102277e+01  3.97928616e+02\n",
      "  1.00479393e+02  7.11603166e+01 -1.09795985e+03 -2.67616041e+03\n",
      " -1.85236018e+02  6.43261244e+00  1.89265352e+00 -1.67504222e+01\n",
      "  5.44607468e+01]\n"
     ]
    }
   ],
   "source": [
    "print(\"The Intercept of our Model is : \",LR.intercept_)\n",
    "print(\"*\"*100)\n",
    "print(\"The Coefficient's of our Model  : \\n \",LR.coef_)"
   ]
  },
  {
   "cell_type": "code",
   "execution_count": 26,
   "metadata": {},
   "outputs": [
    {
     "name": "stdout",
     "output_type": "stream",
     "text": [
      "R-Square :  0.9090492008852977\n"
     ]
    }
   ],
   "source": [
    "R2 = LR.score(X_train , y_train)\n",
    "print(\"R-Square : \",R2)\n",
    "\n",
    "# As Expected R2 Score is above 87."
   ]
  },
  {
   "cell_type": "code",
   "execution_count": 27,
   "metadata": {},
   "outputs": [],
   "source": [
    "# Functio to Calculate Adjusted R-Square\n",
    "def Adj_Rsquare (model , X_train , y_train):\n",
    "    RSquare = model.score( X_train, y_train)\n",
    "    N = X_train.shape[0]\n",
    "    K = X_train.shape[1]\n",
    "    Adj_Rsquare_value = 1-((1-RSquare) * (N-1) / (N-K-1))\n",
    "    return Adj_Rsquare_value"
   ]
  },
  {
   "cell_type": "code",
   "execution_count": 28,
   "metadata": {},
   "outputs": [
    {
     "name": "stdout",
     "output_type": "stream",
     "text": [
      "Adjusted R-Square :  0.8920807682146443\n"
     ]
    }
   ],
   "source": [
    "Adj_R2 = Adj_Rsquare(LR,X_train , y_train)\n",
    "print(\"Adjusted R-Square : \",Adj_R2)\n",
    "\n",
    "# R2 and Adj-R2 are close, So no need of Feature Selection, as Adj-R2 as already close to R2 which mean all the features used are significant."
   ]
  },
  {
   "cell_type": "markdown",
   "metadata": {},
   "source": [
    "- **Check magnitude** of Each feature in LR model"
   ]
  },
  {
   "cell_type": "code",
   "execution_count": 29,
   "metadata": {},
   "outputs": [],
   "source": [
    "coef_LR = LR.coef_\n",
    "cols = X_train.columns\n",
    "coef = pd.Series(coef_LR,cols).sort_values()  # Always Put coefs first then column names"
   ]
  },
  {
   "cell_type": "code",
   "execution_count": 30,
   "metadata": {},
   "outputs": [
    {
     "data": {
      "text/plain": [
       "<AxesSubplot:>"
      ]
     },
     "execution_count": 30,
     "metadata": {},
     "output_type": "execute_result"
    },
    {
     "data": {
      "image/png": "[encoded data removed]",
      "text/plain": [
       "<Figure size 720x576 with 1 Axes>"
      ]
     },
     "metadata": {
      "needs_background": "light"
     },
     "output_type": "display_data"
    }
   ],
   "source": [
    "plt.figure(figsize=(10,8))\n",
    "coef.plot(kind=\"bar\")\n",
    "\n",
    "# Feature Engine_Location is really Dominating the model a lot"
   ]
  },
  {
   "cell_type": "markdown",
   "metadata": {},
   "source": [
    "---"
   ]
  },
  {
   "cell_type": "code",
   "execution_count": 31,
   "metadata": {},
   "outputs": [],
   "source": [
    "# Predict Using the Model\n",
    "y_pred =  LR.predict(X_test)\n",
    "\n",
    "y_pred_train = LR.predict(X_train)"
   ]
  },
  {
   "cell_type": "code",
   "execution_count": 32,
   "metadata": {},
   "outputs": [],
   "source": [
    "# Calculate Error for Train and Test\n",
    "\n",
    "error_train = y_train - y_pred_train\n",
    "\n",
    "error_test  = y_test - y_pred"
   ]
  },
  {
   "cell_type": "markdown",
   "metadata": {},
   "source": [
    "# Check the Assumptions, Always Check Assumptions on Training Data"
   ]
  },
  {
   "cell_type": "markdown",
   "metadata": {},
   "source": [
    "**1.Checking if Mean of X_train ERROR is 0**\n",
    "\n",
    "-> -1.887201506178826e-11 Basically means 0 so it is correct"
   ]
  },
  {
   "cell_type": "code",
   "execution_count": 33,
   "metadata": {},
   "outputs": [
    {
     "name": "stdout",
     "output_type": "stream",
     "text": [
      "Mean of X_train is : -1.887201506178826e-11\n"
     ]
    }
   ],
   "source": [
    "mean_error_model1 = np.mean(error_train)\n",
    "print(\"Mean of X_train is : {}\".format(np.mean(error_train)))"
   ]
  },
  {
   "cell_type": "markdown",
   "metadata": {},
   "source": [
    "**2. Check if there is any Pattern in the Error**"
   ]
  },
  {
   "cell_type": "code",
   "execution_count": 34,
   "metadata": {},
   "outputs": [
    {
     "name": "stdout",
     "output_type": "stream",
     "text": [
      "Errors over   5000 :  3\n",
      "Errors below -5000 :  4\n"
     ]
    },
    {
     "data": {
      "image/png": "[encoded data removed]",
      "text/plain": [
       "<Figure size 720x576 with 1 Axes>"
      ]
     },
     "metadata": {
      "needs_background": "light"
     },
     "output_type": "display_data"
    }
   ],
   "source": [
    "plt.figure(figsize=(10,8))\n",
    "plt.plot(error_train,\"*\")\n",
    "plt.axhline(y=0,color=\"r\",linewidth=5)\n",
    "plt.title(\"Spread of X_train Errors\")\n",
    "\n",
    "# Mostly Error spread between -5000 to 5000 a few outliers, so no patterns in errors\n",
    "\n",
    "print(\"Errors over   5000 : \",(error_train > 5000).sum())\n",
    "print(\"Errors below -5000 : \",(error_train < -5000).sum())"
   ]
  },
  {
   "cell_type": "markdown",
   "metadata": {},
   "source": [
    "**2.Check if errors are  normally distributed**"
   ]
  },
  {
   "cell_type": "code",
   "execution_count": 35,
   "metadata": {},
   "outputs": [
    {
     "data": {
      "text/plain": [
       "<AxesSubplot:xlabel='price'>"
      ]
     },
     "execution_count": 35,
     "metadata": {},
     "output_type": "execute_result"
    },
    {
     "data": {
      "image/png": "[encoded data removed]",
      "text/plain": [
       "<Figure size 432x288 with 1 Axes>"
      ]
     },
     "metadata": {
      "needs_background": "light"
     },
     "output_type": "display_data"
    }
   ],
   "source": [
    "sns.distplot(error_train)\n",
    "\n",
    "# We have this 1 extreme Outlier, looks just a little right skewed"
   ]
  },
  {
   "cell_type": "markdown",
   "metadata": {},
   "source": [
    "**4  Variance around the line should be less**"
   ]
  },
  {
   "cell_type": "code",
   "execution_count": 36,
   "metadata": {},
   "outputs": [
    {
     "data": {
      "text/plain": [
       "<seaborn.axisgrid.JointGrid at 0x19d863fbd08>"
      ]
     },
     "execution_count": 36,
     "metadata": {},
     "output_type": "execute_result"
    },
    {
     "data": {
      "image/png": "[encoded data removed]",
      "text/plain": [
       "<Figure size 432x432 with 3 Axes>"
      ]
     },
     "metadata": {
      "needs_background": "light"
     },
     "output_type": "display_data"
    }
   ],
   "source": [
    "sns.jointplot(x=y_train,y= y_pred_train,kind=\"reg\")\n",
    "\n",
    "# There is a Bit of Variance around the line."
   ]
  },
  {
   "cell_type": "code",
   "execution_count": 37,
   "metadata": {},
   "outputs": [
    {
     "name": "stdout",
     "output_type": "stream",
     "text": [
      "MSE Train 5962179.698032511\n",
      "MSE Test 10392207.212487092\n",
      "****************************************************************************************************\n",
      "MAE Train 1806.205924947769\n",
      "MAE Test 2629.212395414219\n",
      "****************************************************************************************************\n",
      "RMSE Train 2441.7575018892667\n",
      "RMSE Test 3223.6946524891423\n"
     ]
    }
   ],
   "source": [
    "# Checking Scores for Both Train and Test\n",
    "from sklearn.metrics import mean_absolute_error,mean_squared_error\n",
    "\n",
    "\n",
    "print(\"MSE Train\",mean_squared_error(y_train , y_pred_train))\n",
    "print(\"MSE Test\",mean_squared_error(y_test , y_pred))\n",
    "print(\"*\"*100)\n",
    "print(\"MAE Train\",mean_absolute_error(y_train , y_pred_train))\n",
    "print(\"MAE Test\",mean_absolute_error(y_test , y_pred))\n",
    "print(\"*\"*100)\n",
    "print(\"RMSE Train\",np.sqrt(mean_squared_error(y_train , y_pred_train)))\n",
    "print(\"RMSE Test\",np.sqrt(mean_squared_error(y_test , y_pred)))\n"
   ]
  },
  {
   "cell_type": "markdown",
   "metadata": {},
   "source": [
    "## Observation :\n",
    "1. Assumption 1:Mean is close to 0, but it is -ve\n",
    "2. Assumption 2: Data looks a bit Right skewed\n",
    "3. Assumption 3: Could see 1 Very Extreme Outlier, and few normal outliers\n",
    "4. Assumption 4: Could see  a Bit of Variance around the line.\n",
    "\n",
    "**- From multiple observations, we think this can be caused due to outliers. Therefore lets check the Outliers in Y column**"
   ]
  },
  {
   "cell_type": "markdown",
   "metadata": {},
   "source": [
    "-----"
   ]
  },
  {
   "cell_type": "markdown",
   "metadata": {},
   "source": [
    "# Model Building - 2(After Deleting Outliers)"
   ]
  },
  {
   "cell_type": "markdown",
   "metadata": {},
   "source": [
    "# Here we will check the same Assumptions, but after deleting the outliers"
   ]
  },
  {
   "cell_type": "code",
   "execution_count": 38,
   "metadata": {},
   "outputs": [
    {
     "name": "stdout",
     "output_type": "stream",
     "text": [
      "No of Points Above 26000 : 16\n"
     ]
    },
    {
     "data": {
      "image/png": "[encoded data removed]",
      "text/plain": [
       "<Figure size 432x288 with 1 Axes>"
      ]
     },
     "metadata": {
      "needs_background": "light"
     },
     "output_type": "display_data"
    }
   ],
   "source": [
    "sns.boxplot(data.price, orient=\"v\")\n",
    "\n",
    "print(\"No of Points Above 26000 :\",(data.price > 26000).sum())\n",
    "\n",
    "# We can see some outliers in Price\n",
    "#SHOULD THESE 16 POINTS BE CONSIDERED AS OUTLIERS AND DELETED"
   ]
  },
  {
   "cell_type": "code",
   "execution_count": 39,
   "metadata": {},
   "outputs": [
    {
     "data": {
      "text/plain": [
       "count      201.000000\n",
       "mean     13207.129353\n",
       "std       7947.066342\n",
       "min       5118.000000\n",
       "25%       7775.000000\n",
       "50%      10295.000000\n",
       "75%      16500.000000\n",
       "max      45400.000000\n",
       "Name: price, dtype: float64"
      ]
     },
     "execution_count": 39,
     "metadata": {},
     "output_type": "execute_result"
    }
   ],
   "source": [
    "data.price.describe()\n",
    "# Once Again we can see, Mean is 13207 but 75% data is around 16500, so there ought to beoutliers"
   ]
  },
  {
   "cell_type": "markdown",
   "metadata": {},
   "source": [
    "- Deleting the outliers , **Using k=3** is 3 S.D"
   ]
  },
  {
   "cell_type": "code",
   "execution_count": 40,
   "metadata": {},
   "outputs": [],
   "source": [
    "# K is the S.D we want, we can change it higher the values, less outliers will be removed (we remove only extreme outliers).\n",
    "\n",
    "#(x>mean-(k*sd)) : if we want to remove 3 S.D, we will pass k=3 so here first k*S.D so we will subtract mean from 3 S.D.\n",
    "# Similary for (x<mean+(k*sd))\n",
    "\n",
    "\n",
    "# df1 : will be our resulting dataframe with outliers removed\n",
    "def rem_outliers(df , col , k=2):\n",
    "    mean = df[col].mean()\n",
    "    global df1\n",
    "    sd = df[col].std()\n",
    "    \n",
    "    #Here we will have values only greater than Lower Limit\n",
    "    final_list = [x for x in df[col] if (x>mean-(k*sd))]    # Here Mean - 2*S.D gives us Lower limit (Refer Distribution diagram)\n",
    "    \n",
    "    #Here we will have values only Smaller than Upper Limit (So all values betwen upper and lowe limit i.e No Outliers)\n",
    "    final_list = [x for x in final_list if (x<mean+(k*sd))] # Here Mean + 2*S.D gives us Upper limit\n",
    "    df1 = df.loc[df[col].isin(final_list)]\n",
    "    print(df1.shape)"
   ]
  },
  {
   "cell_type": "code",
   "execution_count": 41,
   "metadata": {},
   "outputs": [
    {
     "name": "stdout",
     "output_type": "stream",
     "text": [
      "Old shape (201, 26)\n"
     ]
    }
   ],
   "source": [
    "print(\"Old shape\",data.shape)"
   ]
  },
  {
   "cell_type": "code",
   "execution_count": 42,
   "metadata": {},
   "outputs": [
    {
     "name": "stdout",
     "output_type": "stream",
     "text": [
      "(198, 26)\n"
     ]
    }
   ],
   "source": [
    "rem_outliers(data,\"price\",k=3)"
   ]
  },
  {
   "cell_type": "markdown",
   "metadata": {},
   "source": [
    "### Now we will Check assumptions on this new Dataframe \"data_new\" , which is free from outliers."
   ]
  },
  {
   "cell_type": "code",
   "execution_count": 43,
   "metadata": {},
   "outputs": [],
   "source": [
    "data_new = df1"
   ]
  },
  {
   "cell_type": "code",
   "execution_count": 44,
   "metadata": {},
   "outputs": [
    {
     "data": {
      "text/plain": [
       "((198, 26), (201, 26))"
      ]
     },
     "execution_count": 44,
     "metadata": {},
     "output_type": "execute_result"
    }
   ],
   "source": [
    "data_new.shape , data.shape # We have Removd 3 outliers so difference of 3."
   ]
  },
  {
   "cell_type": "code",
   "execution_count": 45,
   "metadata": {},
   "outputs": [],
   "source": [
    "# WO stands for Without outlier\n",
    "\n",
    "X_WO = data_new.drop(\"price\",axis=1) \n",
    "Y_WO = data_new[\"price\"]"
   ]
  },
  {
   "cell_type": "code",
   "execution_count": 46,
   "metadata": {},
   "outputs": [
    {
     "name": "stdout",
     "output_type": "stream",
     "text": [
      "(158, 25)\n",
      "(158,)\n",
      "(40, 25)\n",
      "(40,)\n"
     ]
    }
   ],
   "source": [
    "from sklearn.model_selection import train_test_split\n",
    "\n",
    "X_trainWO,X_testWO,y_trainWO,y_testWO = train_test_split(X_WO,Y_WO,test_size=0.2 , random_state=111)\n",
    "\n",
    "print(X_trainWO.shape)\n",
    "print(y_trainWO.shape)\n",
    "print(X_testWO.shape)\n",
    "print(y_testWO.shape)"
   ]
  },
  {
   "cell_type": "code",
   "execution_count": 47,
   "metadata": {},
   "outputs": [
    {
     "data": {
      "text/plain": [
       "LinearRegression()"
      ]
     },
     "execution_count": 47,
     "metadata": {},
     "output_type": "execute_result"
    }
   ],
   "source": [
    "LR1 = LinearRegression()\n",
    "\n",
    "LR1.fit(X_trainWO,y_trainWO)"
   ]
  },
  {
   "cell_type": "code",
   "execution_count": 48,
   "metadata": {},
   "outputs": [
    {
     "name": "stdout",
     "output_type": "stream",
     "text": [
      "R-Square :  0.9015661226487466\n",
      "Adjusted R-Square  0.8829233428473728\n"
     ]
    }
   ],
   "source": [
    "R2_WO = LR1.score(X_trainWO,y_trainWO)\n",
    "Adj_R2_WO = Adj_Rsquare(LR1,X_trainWO,y_trainWO)\n",
    "print(\"R-Square : \",R2_WO)\n",
    "print(\"Adjusted R-Square \", Adj_R2_WO)"
   ]
  },
  {
   "cell_type": "code",
   "execution_count": 49,
   "metadata": {},
   "outputs": [],
   "source": [
    "y_prednewTrain = LR1.predict(X_trainWO)"
   ]
  },
  {
   "cell_type": "code",
   "execution_count": 50,
   "metadata": {},
   "outputs": [],
   "source": [
    "y_prednewTest  = LR1.predict(X_testWO)"
   ]
  },
  {
   "cell_type": "code",
   "execution_count": 51,
   "metadata": {},
   "outputs": [],
   "source": [
    "error_new = y_trainWO - y_prednewTrain"
   ]
  },
  {
   "cell_type": "markdown",
   "metadata": {},
   "source": [
    "### Assumption 1 : Mean is Near to 0, and also +ve unlike original Data"
   ]
  },
  {
   "cell_type": "code",
   "execution_count": 52,
   "metadata": {},
   "outputs": [
    {
     "data": {
      "text/plain": [
       "6.447051050542276e-13"
      ]
     },
     "execution_count": 52,
     "metadata": {},
     "output_type": "execute_result"
    }
   ],
   "source": [
    "mean_Error_m3 = np.mean(error_new)\n",
    "mean_Error_m3"
   ]
  },
  {
   "cell_type": "markdown",
   "metadata": {},
   "source": [
    "### Assumption 2: Data Still a bit Right skewed"
   ]
  },
  {
   "cell_type": "code",
   "execution_count": 53,
   "metadata": {},
   "outputs": [
    {
     "data": {
      "text/plain": [
       "<AxesSubplot:xlabel='price'>"
      ]
     },
     "execution_count": 53,
     "metadata": {},
     "output_type": "execute_result"
    },
    {
     "data": {
      "image/png": "[encoded data removed]",
      "text/plain": [
       "<Figure size 576x432 with 1 Axes>"
      ]
     },
     "metadata": {
      "needs_background": "light"
     },
     "output_type": "display_data"
    }
   ],
   "source": [
    "plt.figure(figsize=(8,6))\n",
    "sns.distplot(error_new,label=\"After Outliers Removed\")"
   ]
  },
  {
   "cell_type": "code",
   "execution_count": 54,
   "metadata": {},
   "outputs": [
    {
     "data": {
      "text/plain": [
       "<matplotlib.legend.Legend at 0x19d867f6b48>"
      ]
     },
     "execution_count": 54,
     "metadata": {},
     "output_type": "execute_result"
    },
    {
     "data": {
      "image/png": "[encoded data removed]",
      "text/plain": [
       "<Figure size 576x432 with 1 Axes>"
      ]
     },
     "metadata": {
      "needs_background": "light"
     },
     "output_type": "display_data"
    }
   ],
   "source": [
    "# Comparing Distibution, Before and After Removing Outliers\n",
    "\n",
    "plt.figure(figsize=(8,6))\n",
    "sns.distplot(error_new,label=\"After Outliers Removed\")\n",
    "sns.distplot(error_train,label=\"Original Data\")\n",
    "plt.grid()\n",
    "plt.legend()\n",
    "\n",
    "## WHICH ONE IS BETTER ???????????????????????????????????????????????????"
   ]
  },
  {
   "cell_type": "markdown",
   "metadata": {},
   "source": [
    "### Assumption 2: Could see 1 Very Extreme Outlier, and few normal outliers"
   ]
  },
  {
   "cell_type": "code",
   "execution_count": 55,
   "metadata": {},
   "outputs": [
    {
     "data": {
      "text/plain": [
       "[<matplotlib.lines.Line2D at 0x19d868ae188>]"
      ]
     },
     "execution_count": 55,
     "metadata": {},
     "output_type": "execute_result"
    },
    {
     "data": {
      "image/png": "[encoded data removed]",
      "text/plain": [
       "<Figure size 576x432 with 1 Axes>"
      ]
     },
     "metadata": {
      "needs_background": "light"
     },
     "output_type": "display_data"
    }
   ],
   "source": [
    "plt.figure(figsize=(8,6))\n",
    "plt.plot(error_new,\"*\")\n",
    "\n",
    "# Now we onlty 1 extreme Outlier (>6K)"
   ]
  },
  {
   "cell_type": "code",
   "execution_count": 56,
   "metadata": {},
   "outputs": [
    {
     "data": {
      "text/plain": [
       "<matplotlib.legend.Legend at 0x19d86923448>"
      ]
     },
     "execution_count": 56,
     "metadata": {},
     "output_type": "execute_result"
    },
    {
     "data": {
      "image/png": "[encoded data removed]",
      "text/plain": [
       "<Figure size 720x576 with 1 Axes>"
      ]
     },
     "metadata": {
      "needs_background": "light"
     },
     "output_type": "display_data"
    }
   ],
   "source": [
    "plt.figure(figsize=(10,8))\n",
    "plt.plot(error_new,\"*\",label=\"After Outliers Removed\")\n",
    "plt.plot(error_train,\"*\",label=\"Original Data\")\n",
    "plt.legend()\n",
    "\n",
    "# Data After Outliers Removed has Less extreme Outliers"
   ]
  },
  {
   "cell_type": "markdown",
   "metadata": {},
   "source": [
    "### Assumption 4 : Variance Around the Line"
   ]
  },
  {
   "cell_type": "code",
   "execution_count": 57,
   "metadata": {},
   "outputs": [
    {
     "data": {
      "text/plain": [
       "Text(0.5, 1.0, 'After Removing Outliers')"
      ]
     },
     "execution_count": 57,
     "metadata": {},
     "output_type": "execute_result"
    },
    {
     "data": {
      "image/png": "[encoded data removed]",
      "text/plain": [
       "<Figure size 432x432 with 3 Axes>"
      ]
     },
     "metadata": {
      "needs_background": "light"
     },
     "output_type": "display_data"
    }
   ],
   "source": [
    "sns.jointplot(x=y_trainWO , y=y_prednewTrain , kind=\"reg\" )\n",
    "plt.title(\"After Removing Outliers\")\n",
    "\n",
    "# Better than Before, but can still see a few outliers"
   ]
  },
  {
   "cell_type": "code",
   "execution_count": 58,
   "metadata": {},
   "outputs": [
    {
     "data": {
      "text/plain": [
       "Text(0.5, 1.0, 'Original Data')"
      ]
     },
     "execution_count": 58,
     "metadata": {},
     "output_type": "execute_result"
    },
    {
     "data": {
      "image/png": "[encoded data removed]",
      "text/plain": [
       "<Figure size 432x432 with 3 Axes>"
      ]
     },
     "metadata": {
      "needs_background": "light"
     },
     "output_type": "display_data"
    }
   ],
   "source": [
    "sns.jointplot(x=y_train,y= y_pred_train,kind=\"reg\")\n",
    "plt.title(\"Original Data\")"
   ]
  },
  {
   "cell_type": "code",
   "execution_count": 59,
   "metadata": {},
   "outputs": [
    {
     "name": "stdout",
     "output_type": "stream",
     "text": [
      "MSE Train 5962179.698032511\n",
      "MSE Test 10392207.212487092\n",
      "****************************************************************************************************\n",
      "MAE Train 1806.205924947769\n",
      "MAE Test 2629.212395414219\n",
      "****************************************************************************************************\n",
      "RMSE Train 2441.7575018892667\n",
      "RMSE Test 3223.6946524891423\n"
     ]
    }
   ],
   "source": [
    "# Checking Scores for Both Train and Test ON ORIGINAL DATA\n",
    "from sklearn.metrics import mean_absolute_error,mean_squared_error\n",
    "\n",
    "\n",
    "print(\"MSE Train\",mean_squared_error(y_train , y_pred_train))\n",
    "print(\"MSE Test\",mean_squared_error(y_test , y_pred))\n",
    "print(\"*\"*100)\n",
    "print(\"MAE Train\",mean_absolute_error(y_train , y_pred_train))\n",
    "print(\"MAE Test\",mean_absolute_error(y_test , y_pred))\n",
    "print(\"*\"*100)\n",
    "print(\"RMSE Train\",np.sqrt(mean_squared_error(y_train , y_pred_train)))\n",
    "print(\"RMSE Test\",np.sqrt(mean_squared_error(y_test , y_pred)))\n"
   ]
  },
  {
   "cell_type": "code",
   "execution_count": 60,
   "metadata": {},
   "outputs": [
    {
     "name": "stdout",
     "output_type": "stream",
     "text": [
      "MSE Train 5068068.922201904\n",
      "MSE Test 7318270.32009996\n",
      "****************************************************************************************************\n",
      "MAE Train 1764.4474832494088\n",
      "MAE Test 2268.271242336525\n",
      "****************************************************************************************************\n",
      "RMSE Train 2251.237198120603\n",
      "RMSE Test 2705.230178764824\n"
     ]
    }
   ],
   "source": [
    "# Checking Scores for Both Train and Test AFTER REMOVING OUTLIERS\n",
    "from sklearn.metrics import mean_absolute_error,mean_squared_error\n",
    "\n",
    "\n",
    "print(\"MSE Train\",mean_squared_error(y_trainWO , y_prednewTrain))\n",
    "print(\"MSE Test\",mean_squared_error(y_testWO , y_prednewTest))\n",
    "print(\"*\"*100)\n",
    "print(\"MAE Train\",mean_absolute_error(y_trainWO , y_prednewTrain))\n",
    "print(\"MAE Test\",mean_absolute_error(y_testWO , y_prednewTest))\n",
    "print(\"*\"*100)\n",
    "print(\"RMSE Train\",np.sqrt(mean_squared_error(y_trainWO , y_prednewTrain)))\n",
    "print(\"RMSE Test\",np.sqrt(mean_squared_error(y_testWO , y_prednewTest)))\n"
   ]
  },
  {
   "cell_type": "markdown",
   "metadata": {},
   "source": [
    "### Scores Look Much better with Outliers Removed.\n",
    "\n",
    "### And other assumptions too, more or less look better with Outliers Removed."
   ]
  },
  {
   "cell_type": "markdown",
   "metadata": {},
   "source": [
    "---"
   ]
  },
  {
   "cell_type": "markdown",
   "metadata": {},
   "source": [
    "---"
   ]
  },
  {
   "cell_type": "markdown",
   "metadata": {},
   "source": [
    "# Model Building - 3(After deleting the Outliers, and selecting only Important Features)"
   ]
  },
  {
   "cell_type": "markdown",
   "metadata": {},
   "source": [
    "- Here we can directly use **X_trainWO,X_testWO,y_trainWO,y_testWO**, **As this data is sampeled on Outlier Deleted Data.**"
   ]
  },
  {
   "cell_type": "markdown",
   "metadata": {},
   "source": [
    "- **Get N important Features using RFE**"
   ]
  },
  {
   "cell_type": "code",
   "execution_count": 61,
   "metadata": {},
   "outputs": [
    {
     "data": {
      "text/plain": [
       "RFE(estimator=LinearRegression(), n_features_to_select=20)"
      ]
     },
     "execution_count": 61,
     "metadata": {},
     "output_type": "execute_result"
    }
   ],
   "source": [
    "from sklearn.feature_selection import RFE\n",
    "\n",
    "# Fit the Model\n",
    "LR_temp = LinearRegression()\n",
    "LR_temp.fit(X_trainWO , y_trainWO)\n",
    "\n",
    "# Call the rfe object, and pass base estimator and number of Important features we want.\n",
    "rfe = RFE(LR_temp , 20)\n",
    "rfe.fit(X_trainWO , y_trainWO) # Fit the rfe model"
   ]
  },
  {
   "cell_type": "code",
   "execution_count": 62,
   "metadata": {},
   "outputs": [
    {
     "data": {
      "text/plain": [
       "array([ True, False,  True,  True,  True,  True,  True,  True, False,\n",
       "        True,  True,  True,  True, False,  True,  True,  True,  True,\n",
       "        True,  True,  True, False, False,  True,  True])"
      ]
     },
     "execution_count": 62,
     "metadata": {},
     "output_type": "execute_result"
    }
   ],
   "source": [
    "rfe.support_ # Get Top 20 imp features"
   ]
  },
  {
   "cell_type": "code",
   "execution_count": 63,
   "metadata": {},
   "outputs": [],
   "source": [
    "# To select only imp Features from X_train\n",
    "\n",
    "a= list(rfe.support_)\n",
    "imp_cols = X_trainWO.columns[a]"
   ]
  },
  {
   "cell_type": "markdown",
   "metadata": {},
   "source": [
    "- **Fit the model only on Top N imp features**"
   ]
  },
  {
   "cell_type": "code",
   "execution_count": 64,
   "metadata": {},
   "outputs": [
    {
     "data": {
      "text/plain": [
       "LinearRegression()"
      ]
     },
     "execution_count": 64,
     "metadata": {},
     "output_type": "execute_result"
    }
   ],
   "source": [
    "LR3 = LinearRegression()\n",
    "LR3.fit( pd.DataFrame(X_trainWO.loc[:, imp_cols]) , y_trainWO )"
   ]
  },
  {
   "cell_type": "code",
   "execution_count": 65,
   "metadata": {},
   "outputs": [
    {
     "name": "stdout",
     "output_type": "stream",
     "text": [
      "R-Square After Featre Selection:  0.8924461137279271\n",
      "Adjusted R-Square After Featre Selection  0.8767448164619311\n"
     ]
    }
   ],
   "source": [
    "# fse = Feature selection model\n",
    "\n",
    "R2_fse = LR3.score( pd.DataFrame(X_trainWO.loc[:, imp_cols]) , y_trainWO )\n",
    "Adj_R2_fse = Adj_Rsquare(LR3 ,pd.DataFrame(X_trainWO.loc[:, imp_cols]) , y_trainWO ) \n",
    "\n",
    "print(\"R-Square After Featre Selection: \",R2_fse)\n",
    "print(\"Adjusted R-Square After Featre Selection \", Adj_R2_fse)"
   ]
  },
  {
   "cell_type": "code",
   "execution_count": 66,
   "metadata": {},
   "outputs": [
    {
     "name": "stdout",
     "output_type": "stream",
     "text": [
      "R-Square Original Data:  0.9090492008852977\n",
      "Adjusted R-Square  Original Data 0.8920807682146443\n"
     ]
    }
   ],
   "source": [
    "print(\"R-Square Original Data: \",R2)\n",
    "print(\"Adjusted R-Square  Original Data\", Adj_R2)"
   ]
  },
  {
   "cell_type": "code",
   "execution_count": 67,
   "metadata": {},
   "outputs": [
    {
     "name": "stdout",
     "output_type": "stream",
     "text": [
      "R-Square After Deleting Outlier:  0.9015661226487466\n",
      "Adjusted R-Square  After Deleting Outlier 0.8829233428473728\n"
     ]
    }
   ],
   "source": [
    "print(\"R-Square After Deleting Outlier: \",R2_WO)\n",
    "print(\"Adjusted R-Square  After Deleting Outlier\", Adj_R2_WO)"
   ]
  },
  {
   "cell_type": "markdown",
   "metadata": {},
   "source": [
    "- **How to Interpreat Based on these Scores ???????????????????????????????????????????????????????**"
   ]
  },
  {
   "cell_type": "markdown",
   "metadata": {},
   "source": [
    "### Predict train and test using fse model, AND USE ONLY THE IMP FEATURES"
   ]
  },
  {
   "cell_type": "code",
   "execution_count": 68,
   "metadata": {},
   "outputs": [],
   "source": [
    "y_pred_test_fse = LR3.predict(X_testWO.loc[:, imp_cols])\n",
    "y_pred_train_fse = LR3.predict(X_trainWO.loc[:, imp_cols])"
   ]
  },
  {
   "cell_type": "markdown",
   "metadata": {},
   "source": [
    "- **Calculate Train and Test Errors for fse**"
   ]
  },
  {
   "cell_type": "code",
   "execution_count": 69,
   "metadata": {},
   "outputs": [],
   "source": [
    "error_test_fse  = y_testWO  - y_pred_test_fse\n",
    "error_train_fse = y_trainWO - y_pred_train_fse"
   ]
  },
  {
   "cell_type": "markdown",
   "metadata": {},
   "source": [
    "## Checking Assumptions After Building model on Feature selection(Top 20 features)"
   ]
  },
  {
   "cell_type": "markdown",
   "metadata": {},
   "source": [
    "- **Assumption 1 Mean of error is 0**"
   ]
  },
  {
   "cell_type": "code",
   "execution_count": 70,
   "metadata": {},
   "outputs": [
    {
     "data": {
      "text/plain": [
       "-1.9249052422333366e-11"
      ]
     },
     "execution_count": 70,
     "metadata": {},
     "output_type": "execute_result"
    }
   ],
   "source": [
    "mean_error_M3 = np.mean(error_train_fse)\n",
    "mean_error_M3\n",
    "\n",
    "# Error os close to 0, but +ve"
   ]
  },
  {
   "cell_type": "markdown",
   "metadata": {},
   "source": [
    "- **Assumption 2 Distribution of error**"
   ]
  },
  {
   "cell_type": "code",
   "execution_count": 71,
   "metadata": {},
   "outputs": [
    {
     "data": {
      "image/png": "[encoded data removed]",
      "text/plain": [
       "<Figure size 432x288 with 1 Axes>"
      ]
     },
     "metadata": {
      "needs_background": "light"
     },
     "output_type": "display_data"
    }
   ],
   "source": [
    "sns.distplot(error_train_fse)\n",
    "plt.grid()\n",
    "\n",
    "# Data is more right skewed"
   ]
  },
  {
   "cell_type": "markdown",
   "metadata": {},
   "source": [
    "- **Assumption 2 Distribution of error**"
   ]
  },
  {
   "cell_type": "code",
   "execution_count": 72,
   "metadata": {},
   "outputs": [
    {
     "data": {
      "text/plain": [
       "[<matplotlib.lines.Line2D at 0x19d86900a88>]"
      ]
     },
     "execution_count": 72,
     "metadata": {},
     "output_type": "execute_result"
    },
    {
     "data": {
      "image/png": "[encoded data removed]",
      "text/plain": [
       "<Figure size 720x576 with 1 Axes>"
      ]
     },
     "metadata": {
      "needs_background": "light"
     },
     "output_type": "display_data"
    }
   ],
   "source": [
    "plt.figure(figsize=(10,8))\n",
    "plt.plot(error_train_fse,\"*\")"
   ]
  },
  {
   "cell_type": "code",
   "execution_count": 73,
   "metadata": {},
   "outputs": [
    {
     "data": {
      "text/plain": [
       "<matplotlib.legend.Legend at 0x19d87d20588>"
      ]
     },
     "execution_count": 73,
     "metadata": {},
     "output_type": "execute_result"
    },
    {
     "data": {
      "image/png": "[encoded data removed]",
      "text/plain": [
       "<Figure size 720x576 with 1 Axes>"
      ]
     },
     "metadata": {
      "needs_background": "light"
     },
     "output_type": "display_data"
    }
   ],
   "source": [
    "plt.figure(figsize=(10,8))\n",
    "plt.plot(error_train_fse,\"*\",label= \"M1 Model (FSE)\")\n",
    "plt.plot(error_new,\"o\",label=\"M2 Model (No Outlier)\")\n",
    "plt.legend()"
   ]
  },
  {
   "cell_type": "markdown",
   "metadata": {},
   "source": [
    "- **Assumption 4 variance around the line**"
   ]
  },
  {
   "cell_type": "code",
   "execution_count": 74,
   "metadata": {},
   "outputs": [
    {
     "data": {
      "text/plain": [
       "<seaborn.axisgrid.JointGrid at 0x19d866704c8>"
      ]
     },
     "execution_count": 74,
     "metadata": {},
     "output_type": "execute_result"
    },
    {
     "data": {
      "image/png": "[encoded data removed]",
      "text/plain": [
       "<Figure size 432x432 with 3 Axes>"
      ]
     },
     "metadata": {
      "needs_background": "light"
     },
     "output_type": "display_data"
    }
   ],
   "source": [
    "sns.jointplot( x=y_trainWO,y=y_pred_train_fse,kind=\"reg\")"
   ]
  },
  {
   "cell_type": "code",
   "execution_count": 75,
   "metadata": {},
   "outputs": [
    {
     "name": "stdout",
     "output_type": "stream",
     "text": [
      "MSE Train 5068068.922201904\n",
      "MSE Test 7318270.32009996\n",
      "****************************************************************************************************\n",
      "MAE Train 1764.4474832494088\n",
      "MAE Test 2268.271242336525\n",
      "****************************************************************************************************\n",
      "RMSE Train 2251.237198120603\n",
      "RMSE Test 2705.230178764824\n"
     ]
    }
   ],
   "source": [
    "# Checking Scores for Both Train and Test AFTER REMOVING OUTLIERS\n",
    "from sklearn.metrics import mean_absolute_error,mean_squared_error\n",
    "\n",
    "\n",
    "print(\"MSE Train\",mean_squared_error(y_trainWO , y_prednewTrain))\n",
    "print(\"MSE Test\",mean_squared_error(y_testWO , y_prednewTest))\n",
    "print(\"*\"*100)\n",
    "print(\"MAE Train\",mean_absolute_error(y_trainWO , y_prednewTrain))\n",
    "print(\"MAE Test\",mean_absolute_error(y_testWO , y_prednewTest))\n",
    "print(\"*\"*100)\n",
    "print(\"RMSE Train\",np.sqrt(mean_squared_error(y_trainWO , y_prednewTrain)))\n",
    "print(\"RMSE Test\",np.sqrt(mean_squared_error(y_testWO , y_prednewTest)))\n"
   ]
  },
  {
   "cell_type": "code",
   "execution_count": 76,
   "metadata": {},
   "outputs": [
    {
     "name": "stdout",
     "output_type": "stream",
     "text": [
      "MSE Train 5537631.180903489\n",
      "MSE Test 6287158.075100657\n",
      "****************************************************************************************************\n",
      "MAE Train 1810.0625759776735\n",
      "MAE Test 2211.168661177123\n",
      "****************************************************************************************************\n",
      "RMSE Train 2353.2171979873615\n",
      "RMSE Test 2507.420601953461\n"
     ]
    }
   ],
   "source": [
    "# Checking Scores for Both Train and Test AFTER REMOVING OUTLIERS and taking TOP 20 features based on RFE\n",
    "from sklearn.metrics import mean_absolute_error,mean_squared_error\n",
    "\n",
    "\n",
    "print(\"MSE Train\",mean_squared_error(y_trainWO , y_pred_train_fse))\n",
    "print(\"MSE Test\",mean_squared_error(y_testWO , y_pred_test_fse))\n",
    "print(\"*\"*100)\n",
    "print(\"MAE Train\",mean_absolute_error(y_trainWO , y_pred_train_fse))\n",
    "print(\"MAE Test\",mean_absolute_error(y_testWO , y_pred_test_fse))\n",
    "print(\"*\"*100)\n",
    "print(\"RMSE Train\",np.sqrt(mean_squared_error(y_trainWO , y_pred_train_fse)))\n",
    "print(\"RMSE Test\",np.sqrt(mean_squared_error(y_testWO , y_pred_test_fse)))\n"
   ]
  },
  {
   "cell_type": "markdown",
   "metadata": {},
   "source": [
    "### RMSE, MAE,MSE for Test looks Better with FSE(model where we used Feature Selection)\n",
    "### Basically the Gap between Train and Test is Better with FSE"
   ]
  },
  {
   "cell_type": "markdown",
   "metadata": {},
   "source": [
    "---"
   ]
  },
  {
   "cell_type": "markdown",
   "metadata": {},
   "source": [
    "# Conclusions\n",
    "\n",
    "### We Created 3 Models : \n",
    "- M1. On Original Data\n",
    "- M2. Removed Outliers From the Data.\n",
    "- M3. Removed outliers and took Top 20 Features using RFE"
   ]
  },
  {
   "cell_type": "code",
   "execution_count": 77,
   "metadata": {},
   "outputs": [],
   "source": [
    "from prettytable import PrettyTable\n",
    "myTable = PrettyTable([\"Model\",\"R-Square\", \"Adjusted R-Square\", \"Error Mean\", \"RMSE Train\",\"RMSE Test\"])\n",
    "myTable.add_row([\"Model 1\", R2, Adj_R2, mean_error_model1,np.sqrt(mean_squared_error(y_train , y_pred_train)),np.sqrt(mean_squared_error(y_test , y_pred))])\n",
    "myTable.add_row([\"Model 2\",R2_WO,Adj_R2_WO,mean_Error_m3,np.sqrt(mean_squared_error(y_trainWO , y_prednewTrain)),np.sqrt(mean_squared_error(y_testWO , y_prednewTest))])\n",
    "myTable.add_row([\"Model 3\",R2_fse , Adj_R2_fse , mean_error_M3,np.sqrt(mean_squared_error(y_trainWO , y_pred_train_fse)),np.sqrt(mean_squared_error(y_testWO , y_pred_test_fse))])"
   ]
  },
  {
   "cell_type": "code",
   "execution_count": 78,
   "metadata": {},
   "outputs": [
    {
     "name": "stdout",
     "output_type": "stream",
     "text": [
      "+---------+--------------------+--------------------+-------------------------+--------------------+--------------------+\n",
      "|  Model  |      R-Square      | Adjusted R-Square  |        Error Mean       |     RMSE Train     |     RMSE Test      |\n",
      "+---------+--------------------+--------------------+-------------------------+--------------------+--------------------+\n",
      "| Model 1 | 0.9090492008852977 | 0.8920807682146443 |  -1.887201506178826e-11 | 2441.7575018892667 | 3223.6946524891423 |\n",
      "| Model 2 | 0.9015661226487466 | 0.8829233428473728 |  6.447051050542276e-13  | 2251.237198120603  | 2705.230178764824  |\n",
      "| Model 3 | 0.8924461137279271 | 0.8767448164619311 | -1.9249052422333366e-11 | 2353.2171979873615 | 2507.420601953461  |\n",
      "+---------+--------------------+--------------------+-------------------------+--------------------+--------------------+\n"
     ]
    }
   ],
   "source": [
    "print(myTable)"
   ]
  },
  {
   "cell_type": "markdown",
   "metadata": {},
   "source": [
    "Difference Between Rmse train and Test is the Lowest in M3 : 154.20\n",
    "\n",
    "- **Our Best RMSE Test is 2507, Considering the Mean values of Y is 12671. I Think the RMSE is Decent**"
   ]
  },
  {
   "cell_type": "markdown",
   "metadata": {},
   "source": [
    "### Other Observations :\n",
    "\n",
    "- Q1 Which of the 3 Distribution of Errors is Best????????????\n",
    "- Q2 While Checking Patterns in Error :\n",
    "   M1-> Had some Extreme Outliers\n",
    "   M2-> Now we onlty 1 extreme Outlier (>6K)  (See graph in M2)\n",
    "   M3-> Almost same as M2 (See graph in M3)\n",
    "- **Feature Engine_Location is really Dominating the model a LOT, for all Models is this Fine ??????????????????**   "
   ]
  },
  {
   "cell_type": "code",
   "execution_count": null,
   "metadata": {},
   "outputs": [],
   "source": []
  },
  {
   "cell_type": "code",
   "execution_count": null,
   "metadata": {},
   "outputs": [],
   "source": []
  },
  {
   "cell_type": "markdown",
   "metadata": {},
   "source": [
    "### SGD"
   ]
  },
  {
   "cell_type": "code",
   "execution_count": 79,
   "metadata": {},
   "outputs": [],
   "source": [
    "from sklearn.linear_model import SGDRegressor\n",
    "LR_SGD = SGDRegressor()"
   ]
  },
  {
   "cell_type": "code",
   "execution_count": 80,
   "metadata": {},
   "outputs": [],
   "source": [
    "# Scale The Data\n",
    "from sklearn import preprocessing\n",
    "\n",
    "X_trainWOScaled = preprocessing.scale(X_trainWO)\n",
    "X_testWOScaled  = preprocessing.scale(X_testWO)\n"
   ]
  },
  {
   "cell_type": "markdown",
   "metadata": {},
   "source": [
    "### Preprocessing is a must for SGD"
   ]
  },
  {
   "cell_type": "code",
   "execution_count": 81,
   "metadata": {},
   "outputs": [
    {
     "data": {
      "text/plain": [
       "array([[-1.44933272, -1.44408711,  0.35856858, ..., -0.19339327,\n",
       "        -0.23026735, -0.13979903],\n",
       "       [-1.44933272, -0.28979151,  0.35856858, ..., -0.19339327,\n",
       "        -0.23026735, -0.13979903],\n",
       "       [-0.62561125, -0.12947268,  0.35856858, ...,  0.64090399,\n",
       "        -1.59460137, -1.58347534],\n",
       "       ...,\n",
       "       [ 0.19811023,  0.09497369,  0.35856858, ...,  0.22375536,\n",
       "         0.83088134,  0.87077438],\n",
       "       [-0.62561125, -0.12947268, -2.78886676, ..., -1.96627495,\n",
       "        -0.07867468, -0.86163719],\n",
       "       [ 0.19811023,  0.28735629, -2.78886676, ..., -0.6105419 ,\n",
       "         2.9531787 ,  2.74755357]])"
      ]
     },
     "execution_count": 81,
     "metadata": {},
     "output_type": "execute_result"
    }
   ],
   "source": [
    "X_trainWOScaled"
   ]
  },
  {
   "cell_type": "code",
   "execution_count": 82,
   "metadata": {},
   "outputs": [
    {
     "data": {
      "text/plain": [
       "array([[ 0.58658846, -0.67158021,  0.22941573, -0.46056619, -1.05131497,\n",
       "         0.74569704, -0.73379939, -0.16012815,  0.40705121,  0.71497317,\n",
       "         1.34197135,  0.63270867,  1.12218645,  0.74152457, -0.10910895,\n",
       "        -0.22699055, -0.01251719,  0.72073328,  1.02859641, -0.8913551 ,\n",
       "        -0.07933109,  0.1624252 ,  0.01412097, -0.72091141, -0.46332713],\n",
       "       [-0.14664712, -0.07776192,  0.22941573, -0.46056619, -1.05131497,\n",
       "         0.74569704, -0.73379939, -0.16012815, -0.16930448, -0.18815083,\n",
       "        -0.03640067, -0.06327087, -0.78341318, -0.27272464, -0.10910895,\n",
       "        -0.22699055,  0.01877578, -1.26749645,  0.27036821,  0.816893  ,\n",
       "        -0.33293695, -0.50549153, -0.55071783,  0.07457704,  0.27065644],\n",
       "       [ 1.31982404,  0.62916462,  0.22941573, -0.46056619,  0.95118973,\n",
       "        -0.35903931, -0.73379939, -0.16012815,  0.40705121,  0.71497317,\n",
       "         1.34197135,  0.63270867,  1.12218645,  0.48344589, -0.10910895,\n",
       "        -0.22699055, -0.01251719,  0.72073328,  1.02859641, -0.8913551 ,\n",
       "        -0.07616101,  0.1624252 ,  0.01412097, -0.72091141, -0.46332713],\n",
       "       [-2.34635384, -0.69985727,  0.22941573,  2.17124059, -1.05131497,\n",
       "         0.74569704,  1.36277029, -0.16012815,  1.47742606,  1.31705584,\n",
       "         1.55552195,  1.07560473,  1.16453311,  1.48221038, -0.10910895,\n",
       "        -0.22699055,  0.2691195 ,  0.72073328,  1.34785038, -0.54094523,\n",
       "        -0.64994429,  1.74113748, -0.32478231, -1.51639986, -1.56430248],\n",
       "       [-0.87988269, -0.61502609,  0.22941573, -0.46056619,  0.95118973,\n",
       "        -0.35903931, -0.73379939, -0.16012815, -0.12813622, -1.09127484,\n",
       "        -0.51203609, -0.1898126 , -0.06351999, -0.60564614, -0.10910895,\n",
       "        -0.22699055, -0.35673981, -1.76455388, -0.52776673,  1.3425078 ,\n",
       "        -0.17443329, -0.56621123,  1.25676633,  0.47232127,  0.45415233],\n",
       "       [-0.87988269, -1.43506087,  0.22941573, -0.46056619, -1.05131497,\n",
       "         1.85043339, -0.73379939, -0.16012815, -0.29280928,  1.0160145 ,\n",
       "        -0.29848549, -1.20214647,  2.39258621, -0.49209152, -0.10910895,\n",
       "        -0.22699055, -0.92001319, -1.26749645, -0.9268342 , -1.06656003,\n",
       "        -0.17443329, -1.29484766, -1.00258887,  1.26780972,  1.1881359 ],\n",
       "       [ 0.58658846,  0.17673163,  0.22941573, -0.46056619,  0.95118973,\n",
       "        -1.46377567,  1.36277029, -0.16012815,  0.26296228,  1.0160145 ,\n",
       "         0.33245945,  0.06327087, -0.61402655,  0.53764241, -0.10910895,\n",
       "        -0.22699055,  0.76980695,  0.72073328,  1.34785038,  0.99209794,\n",
       "        -0.07933109,  0.34458431, -1.00258887, -0.12429507, -0.09633534],\n",
       "       [ 1.31982404, -0.36053253,  0.22941573,  2.17124059,  0.95118973,\n",
       "        -0.35903931, -0.73379939, -0.16012815, -0.25164101, -0.18815083,\n",
       "         0.04125409,  0.50616693, -1.3762664 ,  0.93508358, -0.10910895,\n",
       "        -0.22699055,  1.08273661,  1.21779071,  1.1882234 ,  2.56894234,\n",
       "        -0.80844796,  1.22502   , -0.55071783, -1.11865564, -1.19731069],\n",
       "       [-1.61311827, -0.92607376, -4.35889894,  2.17124059, -1.05131497,\n",
       "         0.74569704,  1.36277029, -0.16012815,  2.46546439,  1.31705584,\n",
       "         1.55552195,  2.15120946,  0.8681065 ,  1.9261057 , -0.10910895,\n",
       "         1.07009832,  0.73851399, -0.27338159, -1.08646119,  0.5540856 ,\n",
       "         4.26366941,  0.0409858 , -1.00258887,  0.27344916, -0.64682302],\n",
       "       [ 0.58658846, -0.95435083, -4.35889894, -0.46056619, -1.05131497,\n",
       "         0.74569704, -0.73379939, -0.16012815,  0.03653683,  1.16653517,\n",
       "        -0.10434859,  0.        ,  0.95279982, -0.53338411, -0.10910895,\n",
       "        -0.22699055, -0.76354836, -0.27338159, -1.08646119,  0.5540856 ,\n",
       "         4.26366941, -1.59844618, -1.00258887,  2.4610424 ,  2.83959892],\n",
       "       [-0.14664712,  1.13815173,  0.22941573, -0.46056619,  0.95118973,\n",
       "         0.74569704,  1.36277029, -0.16012815, -0.53981886,  1.0160145 ,\n",
       "        -0.39555394, -0.949063  , -0.3599466 , -0.53080332, -2.29128785,\n",
       "        -0.22699055, -0.7322554 ,  0.72073328, -0.16860601, -0.84755387,\n",
       "        -0.04763035,  0.22314491,  3.0642505 ,  0.27344916, -0.27983123],\n",
       "       [-0.87988269, -1.03918201,  0.22941573, -0.46056619, -1.05131497,\n",
       "        -0.35903931, -0.73379939, -0.16012815, -0.29280928,  1.0160145 ,\n",
       "        -0.62851823, -0.69597953, -0.27525328, -0.89985584, -0.10910895,\n",
       "        -0.22699055, -0.7322554 , -1.26749645, -0.36813974, -1.06656003,\n",
       "        -0.17443329, -1.05196885, -1.00258887,  0.67119338,  0.63764822],\n",
       "       [ 0.58658846, -0.95435083,  0.22941573, -0.46056619, -1.05131497,\n",
       "         0.74569704, -0.73379939, -0.16012815,  0.03653683,  1.16653517,\n",
       "        -0.10434859,  0.        ,  0.95279982, -0.44047579, -0.10910895,\n",
       "        -0.22699055, -0.38803277,  0.72073328, -0.36813974,  0.5540856 ,\n",
       "         0.14257405, -0.14117331,  0.57895977,  0.27344916,  0.27065644],\n",
       "       [-0.14664712,  0.5726105 ,  0.22941573, -0.46056619, -1.05131497,\n",
       "         0.74569704, -0.73379939, -0.16012815, -0.70449191, -1.2417955 ,\n",
       "        -1.5021343 , -1.07560473, -1.20687977, -1.24310048, -0.10910895,\n",
       "        -0.22699055, -0.98259912, -1.26749645, -1.24608818, -0.19053537,\n",
       "        -0.04763035, -1.11268855,  0.57895977,  1.26780972,  1.37163179],\n",
       "       [-0.87988269,  1.70369296,  0.22941573, -0.46056619,  0.95118973,\n",
       "         0.74569704,  1.36277029, -0.16012815,  0.83931798, -1.54283684,\n",
       "         0.39070052, -0.44289607,  0.3599466 ,  0.6176468 , -0.10910895,\n",
       "         1.07009832,  1.33308034,  0.72073328,  0.11074122, -0.3657403 ,\n",
       "        -0.17443329,  0.49638357, -2.24523423, -0.72091141, -0.46332713],\n",
       "       [-0.14664712,  0.03534633,  0.22941573, -0.46056619,  0.95118973,\n",
       "        -0.35903931, -0.73379939, -0.16012815,  0.34529881, -0.63971284,\n",
       "         0.48776897,  0.63270867,  0.10586665, -0.22110891, -0.10910895,\n",
       "        -0.22699055,  0.01877578, -1.26749645,  0.4299952 ,  0.51028437,\n",
       "        -0.30123622, -0.62693093, -1.00258887,  0.27344916,  0.27065644],\n",
       "       [ 1.31982404, -0.36053253,  0.22941573, -0.46056619,  0.95118973,\n",
       "        -2.56851202, -0.73379939, -0.16012815, -0.53981886,  1.16653517,\n",
       "        -1.30799739, -0.82252127,  0.91045316, -0.55919198, -0.10910895,\n",
       "        -0.22699055, -0.38803277,  0.72073328, -0.36813974,  0.5540856 ,\n",
       "        -0.33293695, -0.44477182,  0.57895977, -0.12429507, -0.27983123],\n",
       "       [-0.87988269, -0.61502609,  0.22941573, -0.46056619, -1.05131497,\n",
       "        -0.35903931, -0.73379939, -0.16012815,  0.0159527 , -0.03763017,\n",
       "         0.06066778, -0.1898126 ,  0.52933323, -0.3785369 , -0.10910895,\n",
       "        -0.22699055, -0.04381015, -1.26749645,  0.19055472,  0.86069424,\n",
       "        -0.33293695, -0.23225286, -0.09884679,  0.47232127,  0.63764822],\n",
       "       [ 0.58658846,  1.8168012 ,  0.22941573, -0.46056619,  0.95118973,\n",
       "         0.74569704,  1.36277029, -0.16012815,  0.83931798, -1.54283684,\n",
       "         0.39070052, -0.44289607,  0.3599466 , -0.19530104, -0.10910895,\n",
       "        -0.22699055, -0.41932574,  0.72073328,  0.86896942, -2.0739884 ,\n",
       "        -0.23783475, -0.11081346,  1.25676633, -0.32316718, -0.27983123],\n",
       "       [ 0.58658846,  0.17673163,  0.22941573, -0.46056619,  0.95118973,\n",
       "        -1.46377567,  1.36277029, -0.16012815,  0.26296228,  1.0160145 ,\n",
       "         0.33245945,  0.06327087, -0.61402655,  0.17891304, -0.10910895,\n",
       "        -0.22699055,  0.76980695,  0.72073328,  1.34785038,  0.99209794,\n",
       "        -0.07933109,  0.34458431, -1.00258887, -0.12429507, -0.09633534],\n",
       "       [ 1.31982404,  1.87335533,  0.22941573, -0.46056619,  0.95118973,\n",
       "        -0.35903931,  1.36277029, -0.16012815, -1.19851108, -0.03763017,\n",
       "        -0.20141704,  1.5185008 , -1.58799969,  1.54931083,  2.07306996,\n",
       "         1.07009832,  1.86506075,  0.72073328,  0.58962219, -0.01533043,\n",
       "        -0.17443329,  1.68041777, -0.09884679, -1.11865564, -1.0138148 ],\n",
       "       [-0.87988269, -0.36053253,  0.22941573, -0.46056619, -1.05131497,\n",
       "         0.74569704, -0.73379939, -0.16012815,  0.34529881, -0.63971284,\n",
       "         0.48776897,  0.63270867,  0.8681065 , -0.15658924, -0.10910895,\n",
       "        -0.22699055,  0.01877578, -1.26749645,  0.4299952 ,  0.51028437,\n",
       "        -0.30123622, -0.62693093, -1.00258887,  0.27344916,  0.27065644],\n",
       "       [ 0.58658846, -0.95435083,  0.22941573, -0.46056619, -1.05131497,\n",
       "         0.74569704, -0.73379939, -0.16012815,  0.03653683,  1.16653517,\n",
       "        -0.10434859,  0.        ,  0.95279982, -0.66758502, -0.10910895,\n",
       "        -0.22699055, -0.38803277,  0.72073328, -0.36813974,  0.5540856 ,\n",
       "        -0.17443329, -0.59657108,  0.01412097,  0.47232127,  0.63764822],\n",
       "       [-2.34635384, -0.69985727,  0.22941573, -0.46056619, -1.05131497,\n",
       "         0.74569704,  1.36277029, -0.16012815,  1.47742606,  1.31705584,\n",
       "         1.55552195,  1.07560473,  1.16453311,  1.19832383, -0.10910895,\n",
       "        -0.22699055,  0.61334213,  0.72073328,  1.98635834, -0.54094523,\n",
       "        -0.01592962,  0.28386461,  0.35302425, -0.12429507, -0.46332713],\n",
       "       [-1.61311827, -0.36053253,  0.22941573, -0.46056619, -1.05131497,\n",
       "         0.74569704,  1.36277029, -0.16012815,  3.80343296, -0.48919217,\n",
       "         2.89506659,  3.92279373,  1.29157308,  3.2758572 ,  2.07306996,\n",
       "        -2.82116829,  3.52358793,  0.72073328,  0.70934243, -0.7599514 ,\n",
       "        -0.39633842,  1.52861852, -1.11555663, -1.71527198, -2.29828604],\n",
       "       [-0.14664712, -0.41708666,  0.22941573, -0.46056619, -1.05131497,\n",
       "         0.74569704, -0.73379939, -0.16012815, -0.8279967 , -0.63971284,\n",
       "        -0.579984  , -0.82252127,  0.27525328, -1.3566551 , -0.10910895,\n",
       "        -0.22699055, -0.95130616, -1.26749645, -1.0066477 , -0.54094523,\n",
       "        -0.17443329, -1.11268855, -0.55071783,  1.26780972,  1.37163179],\n",
       "       [-0.14664712, -0.67158021,  0.22941573, -0.46056619,  0.95118973,\n",
       "        -0.35903931, -0.73379939, -0.16012815, -0.8279967 , -0.63971284,\n",
       "        -1.32741108, -0.82252127,  0.27525328, -1.4727905 , -0.10910895,\n",
       "        -0.22699055, -0.95130616, -1.26749645, -1.0066477 , -0.54094523,\n",
       "        -0.17443329, -1.11268855, -0.55071783,  1.26780972,  1.37163179],\n",
       "       [ 1.31982404,  3.62653314,  0.22941573, -0.46056619,  0.95118973,\n",
       "        -0.35903931, -0.73379939, -0.16012815, -0.53981886,  1.16653517,\n",
       "        -0.6867593 , -0.949063  , -0.8681065 , -0.64435794, -0.10910895,\n",
       "        -0.22699055, -0.38803277,  0.72073328, -0.36813974,  0.5540856 ,\n",
       "        -0.33293695, -0.44477182,  0.57895977, -0.12429507, -0.27983123],\n",
       "       [-0.87988269, -1.20884438,  0.22941573, -0.46056619, -1.05131497,\n",
       "         0.74569704, -0.73379939, -0.16012815, -0.12813622, -1.09127484,\n",
       "         0.25480469, -0.1898126 ,  0.27525328, -0.01464597, -0.10910895,\n",
       "        -0.22699055, -0.35673981,  0.72073328, -0.52776673,  1.3425078 ,\n",
       "        -0.17443329, -0.11081346,  1.25676633, -0.12429507, -0.46332713],\n",
       "       [ 1.31982404, -0.36053253,  0.22941573, -0.46056619,  0.95118973,\n",
       "        -2.56851202,  1.36277029,  6.244998  , -1.56902545,  0.41393183,\n",
       "        -0.37614025, -0.31635433, -0.78341318,  0.84991761,  0.98198051,\n",
       "         1.07009832,  2.27186931,  0.72073328,  1.82673135, -1.63597607,\n",
       "        -0.01592962,  3.10733079,  1.48270185, -1.51639986, -1.0138148 ],\n",
       "       [-0.14664712,  0.5726105 ,  0.22941573,  2.17124059, -1.05131497,\n",
       "         0.74569704, -0.73379939, -0.16012815, -0.70449191, -1.2417955 ,\n",
       "        -1.5021343 , -1.07560473, -1.20687977, -0.72178155, -0.10910895,\n",
       "        -0.22699055, -0.7322554 ,  0.72073328, -1.0066477 ,  0.51028437,\n",
       "        -0.61824356, -0.08045361,  0.57895977, -0.12429507, -0.09633534],\n",
       "       [-0.14664712,  0.03534633,  0.22941573, -0.46056619,  0.95118973,\n",
       "        -0.35903931, -0.73379939, -0.16012815,  0.34529881, -0.63971284,\n",
       "         0.48776897,  0.63270867,  0.10586665, -0.22110891, -0.10910895,\n",
       "        -0.22699055,  0.01877578, -1.26749645,  0.4299952 ,  0.51028437,\n",
       "        -0.30123622, -0.62693093, -1.00258887,  0.27344916,  0.27065644],\n",
       "       [ 1.31982404,  0.62916462,  0.22941573, -0.46056619,  0.95118973,\n",
       "        -0.35903931,  1.36277029, -0.16012815, -0.3751458 , -0.63971284,\n",
       "        -0.36643341,  0.12654173, -1.63034635, -0.23401284,  3.16415941,\n",
       "         4.96136493, -1.60845843, -0.77043902,  0.11074122,  0.07227204,\n",
       "        -0.04763035, -0.11081346,  1.70863737, -1.51639986, -1.38080658],\n",
       "       [-0.14664712,  0.74227286,  0.22941573, -0.46056619, -1.05131497,\n",
       "         0.74569704, -0.73379939, -0.16012815, -0.70449191,  0.26341117,\n",
       "        -0.53144978, -1.07560473, -1.12218645, -1.24310048, -0.10910895,\n",
       "        -0.22699055, -0.98259912, -1.26749645, -1.24608818, -0.19053537,\n",
       "        -0.04763035, -1.11268855,  0.57895977,  1.26780972,  1.37163179],\n",
       "       [-0.14664712,  0.9402123 ,  0.22941573,  2.17124059,  0.95118973,\n",
       "        -0.35903931, -0.73379939, -0.16012815, -0.84858084, -0.18815083,\n",
       "        -1.5021343 , -1.07560473, -1.12218645, -0.84049774, -0.10910895,\n",
       "        -0.22699055, -0.7322554 ,  1.21779071, -1.0066477 ,  0.51028437,\n",
       "        -0.61824356, -0.08045361,  0.57895977, -0.12429507, -0.09633534],\n",
       "       [ 1.31982404,  0.62916462,  0.22941573,  2.17124059,  0.95118973,\n",
       "        -0.35903931, -0.73379939, -0.16012815,  0.40705121,  0.71497317,\n",
       "         1.34197135,  0.63270867,  1.12218645,  0.87056391, -2.29128785,\n",
       "        -0.22699055, -0.01251719,  0.72073328,  1.02859641, -0.8913551 ,\n",
       "        -0.17443329,  1.68041777,  0.57895977, -1.11865564, -0.83031891],\n",
       "       [ 1.31982404, -0.36053253,  0.22941573, -0.46056619,  0.95118973,\n",
       "        -2.56851202,  1.36277029, -0.16012815, -1.75428264, -1.84387817,\n",
       "        -0.3858471 , -0.88579213, -1.96911962,  0.19955934, -2.29128785,\n",
       "        -0.22699055,  0.2691195 ,  0.72073328,  0.74924918, -2.5996032 ,\n",
       "        -0.17443329,  0.19278506, -0.55071783, -0.72091141, -0.64682302],\n",
       "       [-0.14664712, -0.07776192,  0.22941573,  2.17124059, -1.05131497,\n",
       "         0.74569704, -0.73379939, -0.16012815, -0.16930448, -0.18815083,\n",
       "        -0.03640067, -0.06327087, -0.78341318, -0.17465475, -0.10910895,\n",
       "        -0.22699055, -0.35673981,  1.21779071, -0.44795324,  0.816893  ,\n",
       "        -0.64994429,  0.34458431,  0.57895977, -0.32316718, -0.09633534],\n",
       "       [-0.14664712, -0.36053253,  0.22941573, -0.46056619,  0.95118973,\n",
       "        -0.35903931,  1.36277029, -0.16012815, -0.53981886, -1.84387817,\n",
       "        -0.15288281,  0.        , -0.44463991,  0.90927571,  2.07306996,\n",
       "         1.07009832,  0.95756475,  0.72073328, -2.40338385,  0.86069424,\n",
       "        -0.17443329,  1.49825867, -0.55071783, -1.11865564, -0.83031891],\n",
       "       [-0.14664712, -0.7564114 ,  0.22941573, -0.46056619,  0.95118973,\n",
       "        -0.35903931, -0.73379939, -0.16012815, -0.70449191, -1.09127484,\n",
       "        -2.210734  , -0.949063  , -0.3599466 , -1.63538007, -0.10910895,\n",
       "        -0.22699055, -1.32682174, -1.76455388, -1.48552866, -0.8913551 ,\n",
       "         0.17427478, -1.35556736,  0.57895977,  2.65991451,  2.10561536]])"
      ]
     },
     "execution_count": 82,
     "metadata": {},
     "output_type": "execute_result"
    }
   ],
   "source": [
    "X_testWOScaled"
   ]
  },
  {
   "cell_type": "code",
   "execution_count": 83,
   "metadata": {},
   "outputs": [
    {
     "data": {
      "text/plain": [
       "SGDRegressor()"
      ]
     },
     "execution_count": 83,
     "metadata": {},
     "output_type": "execute_result"
    }
   ],
   "source": [
    "LR_SGD.fit(X_trainWOScaled,y_trainWO)"
   ]
  },
  {
   "cell_type": "code",
   "execution_count": 84,
   "metadata": {},
   "outputs": [
    {
     "data": {
      "text/plain": [
       "0.8970435362989836"
      ]
     },
     "execution_count": 84,
     "metadata": {},
     "output_type": "execute_result"
    }
   ],
   "source": [
    "LR_SGD.score(X_trainWOScaled,y_trainWO)"
   ]
  },
  {
   "cell_type": "code",
   "execution_count": 85,
   "metadata": {},
   "outputs": [
    {
     "data": {
      "text/plain": [
       "array([  243.76920976,  -442.81338263,  -176.78984811,   -19.93071268,\n",
       "        -634.02320647,  -834.63910799,   678.84571798,  1290.88929487,\n",
       "         187.40822256, -1269.70958191,   103.49643622,  1605.68162359,\n",
       "         207.6559235 ,  1499.30196748,    81.53862416,    26.20500122,\n",
       "        1954.04516976,   -74.23846294,  -339.69797399,  -651.81294536,\n",
       "         384.17739582,  1394.10902147,   164.55993544,  -156.71542042,\n",
       "          87.29751247])"
      ]
     },
     "execution_count": 85,
     "metadata": {},
     "output_type": "execute_result"
    }
   ],
   "source": [
    "LR_SGD.coef_"
   ]
  },
  {
   "cell_type": "code",
   "execution_count": 86,
   "metadata": {},
   "outputs": [],
   "source": [
    "# Create Dataframe of coefs and Columns"
   ]
  },
  {
   "cell_type": "code",
   "execution_count": 87,
   "metadata": {},
   "outputs": [
    {
     "ename": "AttributeError",
     "evalue": "'numpy.ndarray' object has no attribute 'colu'",
     "output_type": "error",
     "traceback": [
      "\u001b[1;31m---------------------------------------------------------------------------\u001b[0m",
      "\u001b[1;31mAttributeError\u001b[0m                            Traceback (most recent call last)",
      "\u001b[1;32m<ipython-input-87-4805eda48911>\u001b[0m in \u001b[0;36m<module>\u001b[1;34m\u001b[0m\n\u001b[1;32m----> 1\u001b[1;33m \u001b[0mcols\u001b[0m \u001b[1;33m=\u001b[0m \u001b[0mX_trainWOScaled\u001b[0m\u001b[1;33m.\u001b[0m\u001b[0mcolu\u001b[0m\u001b[1;33m\u001b[0m\u001b[1;33m\u001b[0m\u001b[0m\n\u001b[0m",
      "\u001b[1;31mAttributeError\u001b[0m: 'numpy.ndarray' object has no attribute 'colu'"
     ]
    }
   ],
   "source": [
    "cols = X_trainWOScaled.colu"
   ]
  },
  {
   "cell_type": "code",
   "execution_count": null,
   "metadata": {},
   "outputs": [],
   "source": [
    "X_trainWOScaled.shape"
   ]
  },
  {
   "cell_type": "code",
   "execution_count": null,
   "metadata": {},
   "outputs": [],
   "source": []
  },
  {
   "cell_type": "code",
   "execution_count": null,
   "metadata": {},
   "outputs": [],
   "source": []
  },
  {
   "cell_type": "code",
   "execution_count": null,
   "metadata": {},
   "outputs": [],
   "source": []
  }
 ],
 "metadata": {
  "kernelspec": {
   "display_name": "Python 3",
   "language": "python",
   "name": "python3"
  },
  "language_info": {
   "codemirror_mode": {
    "name": "ipython",
    "version": 3
   },
   "file_extension": ".py",
   "mimetype": "text/x-python",
   "name": "python",
   "nbconvert_exporter": "python",
   "pygments_lexer": "ipython3",
   "version": "3.7.6"
  }
 },
 "nbformat": 4,
 "nbformat_minor": 2
}
